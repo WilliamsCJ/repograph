{
 "cells": [
  {
   "cell_type": "code",
   "execution_count": 3,
   "metadata": {
    "collapsed": true
   },
   "outputs": [
    {
     "name": "stdout",
     "output_type": "stream",
     "text": [
      "Requirement already satisfied: datasets in /opt/homebrew/Caskroom/miniforge/base/envs/repograph/lib/python3.10/site-packages (2.10.1)\r\n",
      "Requirement already satisfied: transformers in /opt/homebrew/Caskroom/miniforge/base/envs/repograph/lib/python3.10/site-packages (4.26.0)\r\n",
      "Requirement already satisfied: sentence_transformers in /opt/homebrew/Caskroom/miniforge/base/envs/repograph/lib/python3.10/site-packages (2.2.2)\r\n",
      "Requirement already satisfied: pandas in /opt/homebrew/Caskroom/miniforge/base/envs/repograph/lib/python3.10/site-packages (1.5.3)\r\n",
      "Requirement already satisfied: xxhash in /opt/homebrew/Caskroom/miniforge/base/envs/repograph/lib/python3.10/site-packages (from datasets) (3.2.0)\r\n",
      "Requirement already satisfied: requests>=2.19.0 in /opt/homebrew/Caskroom/miniforge/base/envs/repograph/lib/python3.10/site-packages (from datasets) (2.28.2)\r\n",
      "Requirement already satisfied: multiprocess in /opt/homebrew/Caskroom/miniforge/base/envs/repograph/lib/python3.10/site-packages (from datasets) (0.70.14)\r\n",
      "Requirement already satisfied: fsspec[http]>=2021.11.1 in /opt/homebrew/Caskroom/miniforge/base/envs/repograph/lib/python3.10/site-packages (from datasets) (2023.3.0)\r\n",
      "Requirement already satisfied: huggingface-hub<1.0.0,>=0.2.0 in /opt/homebrew/Caskroom/miniforge/base/envs/repograph/lib/python3.10/site-packages (from datasets) (0.12.0)\r\n",
      "Requirement already satisfied: packaging in /opt/homebrew/Caskroom/miniforge/base/envs/repograph/lib/python3.10/site-packages (from datasets) (23.0)\r\n",
      "Requirement already satisfied: dill<0.3.7,>=0.3.0 in /opt/homebrew/Caskroom/miniforge/base/envs/repograph/lib/python3.10/site-packages (from datasets) (0.3.6)\r\n",
      "Requirement already satisfied: numpy>=1.17 in /opt/homebrew/Caskroom/miniforge/base/envs/repograph/lib/python3.10/site-packages (from datasets) (1.24.1)\r\n",
      "Requirement already satisfied: responses<0.19 in /opt/homebrew/Caskroom/miniforge/base/envs/repograph/lib/python3.10/site-packages (from datasets) (0.18.0)\r\n",
      "Requirement already satisfied: pyyaml>=5.1 in /opt/homebrew/Caskroom/miniforge/base/envs/repograph/lib/python3.10/site-packages (from datasets) (6.0)\r\n",
      "Requirement already satisfied: pyarrow>=6.0.0 in /opt/homebrew/Caskroom/miniforge/base/envs/repograph/lib/python3.10/site-packages (from datasets) (11.0.0)\r\n",
      "Requirement already satisfied: tqdm>=4.62.1 in /opt/homebrew/Caskroom/miniforge/base/envs/repograph/lib/python3.10/site-packages (from datasets) (4.64.1)\r\n",
      "Requirement already satisfied: aiohttp in /opt/homebrew/Caskroom/miniforge/base/envs/repograph/lib/python3.10/site-packages (from datasets) (3.8.3)\r\n",
      "Requirement already satisfied: filelock in /opt/homebrew/Caskroom/miniforge/base/envs/repograph/lib/python3.10/site-packages (from transformers) (3.9.0)\r\n",
      "Requirement already satisfied: regex!=2019.12.17 in /opt/homebrew/Caskroom/miniforge/base/envs/repograph/lib/python3.10/site-packages (from transformers) (2022.10.31)\r\n",
      "Requirement already satisfied: tokenizers!=0.11.3,<0.14,>=0.11.1 in /opt/homebrew/Caskroom/miniforge/base/envs/repograph/lib/python3.10/site-packages (from transformers) (0.13.2)\r\n",
      "Requirement already satisfied: torchvision in /opt/homebrew/Caskroom/miniforge/base/envs/repograph/lib/python3.10/site-packages (from sentence_transformers) (0.14.1)\r\n",
      "Requirement already satisfied: sentencepiece in /opt/homebrew/Caskroom/miniforge/base/envs/repograph/lib/python3.10/site-packages (from sentence_transformers) (0.1.97)\r\n",
      "Requirement already satisfied: scikit-learn in /opt/homebrew/Caskroom/miniforge/base/envs/repograph/lib/python3.10/site-packages (from sentence_transformers) (1.2.1)\r\n",
      "Requirement already satisfied: nltk in /opt/homebrew/Caskroom/miniforge/base/envs/repograph/lib/python3.10/site-packages (from sentence_transformers) (3.8.1)\r\n",
      "Requirement already satisfied: scipy in /opt/homebrew/Caskroom/miniforge/base/envs/repograph/lib/python3.10/site-packages (from sentence_transformers) (1.10.0)\r\n",
      "Requirement already satisfied: torch>=1.6.0 in /opt/homebrew/Caskroom/miniforge/base/envs/repograph/lib/python3.10/site-packages (from sentence_transformers) (1.13.1)\r\n",
      "Requirement already satisfied: python-dateutil>=2.8.1 in /opt/homebrew/Caskroom/miniforge/base/envs/repograph/lib/python3.10/site-packages (from pandas) (2.8.2)\r\n",
      "Requirement already satisfied: pytz>=2020.1 in /opt/homebrew/Caskroom/miniforge/base/envs/repograph/lib/python3.10/site-packages (from pandas) (2022.7.1)\r\n",
      "Requirement already satisfied: charset-normalizer<3.0,>=2.0 in /opt/homebrew/Caskroom/miniforge/base/envs/repograph/lib/python3.10/site-packages (from aiohttp->datasets) (2.1.1)\r\n",
      "Requirement already satisfied: aiosignal>=1.1.2 in /opt/homebrew/Caskroom/miniforge/base/envs/repograph/lib/python3.10/site-packages (from aiohttp->datasets) (1.3.1)\r\n",
      "Requirement already satisfied: async-timeout<5.0,>=4.0.0a3 in /opt/homebrew/Caskroom/miniforge/base/envs/repograph/lib/python3.10/site-packages (from aiohttp->datasets) (4.0.2)\r\n",
      "Requirement already satisfied: frozenlist>=1.1.1 in /opt/homebrew/Caskroom/miniforge/base/envs/repograph/lib/python3.10/site-packages (from aiohttp->datasets) (1.3.3)\r\n",
      "Requirement already satisfied: attrs>=17.3.0 in /opt/homebrew/Caskroom/miniforge/base/envs/repograph/lib/python3.10/site-packages (from aiohttp->datasets) (22.2.0)\r\n",
      "Requirement already satisfied: multidict<7.0,>=4.5 in /opt/homebrew/Caskroom/miniforge/base/envs/repograph/lib/python3.10/site-packages (from aiohttp->datasets) (6.0.4)\r\n",
      "Requirement already satisfied: yarl<2.0,>=1.0 in /opt/homebrew/Caskroom/miniforge/base/envs/repograph/lib/python3.10/site-packages (from aiohttp->datasets) (1.8.2)\r\n",
      "Requirement already satisfied: typing-extensions>=3.7.4.3 in /opt/homebrew/Caskroom/miniforge/base/envs/repograph/lib/python3.10/site-packages (from huggingface-hub<1.0.0,>=0.2.0->datasets) (4.4.0)\r\n",
      "Requirement already satisfied: six>=1.5 in /opt/homebrew/Caskroom/miniforge/base/envs/repograph/lib/python3.10/site-packages (from python-dateutil>=2.8.1->pandas) (1.16.0)\r\n",
      "Requirement already satisfied: idna<4,>=2.5 in /opt/homebrew/Caskroom/miniforge/base/envs/repograph/lib/python3.10/site-packages (from requests>=2.19.0->datasets) (3.4)\r\n",
      "Requirement already satisfied: certifi>=2017.4.17 in /opt/homebrew/Caskroom/miniforge/base/envs/repograph/lib/python3.10/site-packages (from requests>=2.19.0->datasets) (2022.12.7)\r\n",
      "Requirement already satisfied: urllib3<1.27,>=1.21.1 in /opt/homebrew/Caskroom/miniforge/base/envs/repograph/lib/python3.10/site-packages (from requests>=2.19.0->datasets) (1.26.14)\r\n",
      "Requirement already satisfied: click in /opt/homebrew/Caskroom/miniforge/base/envs/repograph/lib/python3.10/site-packages (from nltk->sentence_transformers) (8.1.3)\r\n",
      "Requirement already satisfied: joblib in /opt/homebrew/Caskroom/miniforge/base/envs/repograph/lib/python3.10/site-packages (from nltk->sentence_transformers) (1.2.0)\r\n",
      "Requirement already satisfied: threadpoolctl>=2.0.0 in /opt/homebrew/Caskroom/miniforge/base/envs/repograph/lib/python3.10/site-packages (from scikit-learn->sentence_transformers) (3.1.0)\r\n",
      "Requirement already satisfied: pillow!=8.3.*,>=5.3.0 in /opt/homebrew/Caskroom/miniforge/base/envs/repograph/lib/python3.10/site-packages (from torchvision->sentence_transformers) (9.4.0)\r\n",
      "Note: you may need to restart the kernel to use updated packages.\n"
     ]
    }
   ],
   "source": [
    "%pip install datasets transformers sentence_transformers pandas"
   ]
  },
  {
   "cell_type": "code",
   "execution_count": 4,
   "outputs": [],
   "source": [
    "from datasets import load_dataset\n",
    "import pandas as pd"
   ],
   "metadata": {
    "collapsed": false
   }
  },
  {
   "cell_type": "code",
   "execution_count": 5,
   "outputs": [
    {
     "name": "stderr",
     "output_type": "stream",
     "text": [
      "Found cached dataset code_x_glue_ct_code_to_text (/Users/cjwilliams/.cache/huggingface/datasets/code_x_glue_ct_code_to_text/python/0.0.0/f8b7e9d51f609a87e7ec7c7431706d4ee0b402e3398560410313d4acc67060a0)\n"
     ]
    },
    {
     "data": {
      "text/plain": "  0%|          | 0/3 [00:00<?, ?it/s]",
      "application/vnd.jupyter.widget-view+json": {
       "version_major": 2,
       "version_minor": 0,
       "model_id": "035a4335d55f4bccbfcdcddc9c9735c1"
      }
     },
     "metadata": {},
     "output_type": "display_data"
    }
   ],
   "source": [
    "dataset = load_dataset(\"code_x_glue_ct_code_to_text\", \"python\")"
   ],
   "metadata": {
    "collapsed": false
   }
  },
  {
   "cell_type": "code",
   "execution_count": 6,
   "outputs": [],
   "source": [
    "df = pd.DataFrame(dataset['train'])"
   ],
   "metadata": {
    "collapsed": false
   }
  },
  {
   "cell_type": "code",
   "execution_count": 8,
   "outputs": [],
   "source": [
    "df['text'] = df['code_tokens'].apply(lambda x: \" \".join(x))\n",
    "df['target'] = df['docstring']"
   ],
   "metadata": {
    "collapsed": false
   }
  },
  {
   "cell_type": "code",
   "execution_count": 13,
   "outputs": [],
   "source": [
    "df = df.loc[:, \"text\": \"target\"]"
   ],
   "metadata": {
    "collapsed": false
   }
  },
  {
   "cell_type": "code",
   "execution_count": 15,
   "outputs": [],
   "source": [
    "with open('train.csv', 'w') as csv_file:\n",
    "    df.to_csv(path_or_buf=csv_file)"
   ],
   "metadata": {
    "collapsed": false
   }
  },
  {
   "cell_type": "code",
   "execution_count": 16,
   "outputs": [],
   "source": [
    "df = pd.DataFrame(dataset['validation'])"
   ],
   "metadata": {
    "collapsed": false
   }
  },
  {
   "cell_type": "code",
   "execution_count": 17,
   "outputs": [],
   "source": [
    "df['text'] = df['code_tokens'].apply(lambda x: \" \".join(x))\n",
    "df['target'] = df['docstring']"
   ],
   "metadata": {
    "collapsed": false
   }
  },
  {
   "cell_type": "code",
   "execution_count": 18,
   "outputs": [],
   "source": [
    "df = df.loc[:, \"text\": \"target\"]"
   ],
   "metadata": {
    "collapsed": false
   }
  },
  {
   "cell_type": "code",
   "execution_count": 19,
   "outputs": [],
   "source": [
    "with open('validation.csv', 'w') as csv_file:\n",
    "    df.to_csv(path_or_buf=csv_file)"
   ],
   "metadata": {
    "collapsed": false
   }
  }
 ],
 "metadata": {
  "kernelspec": {
   "display_name": "Python 3",
   "language": "python",
   "name": "python3"
  },
  "language_info": {
   "codemirror_mode": {
    "name": "ipython",
    "version": 2
   },
   "file_extension": ".py",
   "mimetype": "text/x-python",
   "name": "python",
   "nbconvert_exporter": "python",
   "pygments_lexer": "ipython2",
   "version": "2.7.6"
  }
 },
 "nbformat": 4,
 "nbformat_minor": 0
}
