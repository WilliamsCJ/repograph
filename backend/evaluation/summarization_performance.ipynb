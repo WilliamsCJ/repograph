{
 "cells": [
  {
   "cell_type": "markdown",
   "metadata": {},
   "source": [
    "# Function Summarization Evaluation"
   ]
  },
  {
   "cell_type": "code",
   "execution_count": null,
   "metadata": {},
   "outputs": [],
   "source": [
    "%pip install datasets transformers sentence_transformers pandas"
   ]
  },
  {
   "cell_type": "code",
   "execution_count": null,
   "metadata": {},
   "outputs": [],
   "source": [
    "from datasets import load_dataset\n",
    "from transformers import T5ForConditionalGeneration, RobertaTokenizer\n",
    "from sentence_transformers import SentenceTransformer, util\n",
    "\n",
    "import pandas as pd\n",
    "import matplotlib.pyplot as plt"
   ]
  },
  {
   "cell_type": "code",
   "execution_count": null,
   "metadata": {},
   "outputs": [],
   "source": [
    "dataset = load_dataset(\"code_x_glue_ct_code_to_text\", \"python\")"
   ]
  },
  {
   "cell_type": "code",
   "execution_count": null,
   "metadata": {},
   "outputs": [],
   "source": [
    "df = pd.DataFrame(dataset['test'])"
   ]
  },
  {
   "cell_type": "code",
   "execution_count": null,
   "metadata": {},
   "outputs": [],
   "source": [
    "tokenizer = RobertaTokenizer.from_pretrained(\"Salesforce/codet5-base\")\n",
    "model = T5ForConditionalGeneration.from_pretrained(\"Salesforce/codet5-base-multi-sum\")\n",
    "cosine_model = SentenceTransformer(\"sentence-transformers/multi-qa-distilbert-cos-v1\")\n",
    "finetuned_model = T5ForConditionalGeneration.from_pretrained(\n",
    "    \"cjwilliams/codet5_base_python_sum\")\n",
    "finetuned_model_small = T5ForConditionalGeneration.from_pretrained(\n",
    "    \"stmnk/codet5-small-code-summarization-python\")"
   ]
  },
  {
   "cell_type": "code",
   "execution_count": null,
   "metadata": {},
   "outputs": [],
   "source": [
    "counter = 1\n",
    "counter_fine = 1\n",
    "counter_fine_small = 1\n",
    "size = len(df)"
   ]
  },
  {
   "cell_type": "code",
   "execution_count": null,
   "metadata": {},
   "outputs": [],
   "source": [
    "def summarize(code_tokens):\n",
    "    global counter, size\n",
    "    print(f\"Base {counter}/{size}\")\n",
    "    counter += 1\n",
    "    input_ids = tokenizer(' '.join(code_tokens), return_tensors='pt').input_ids\n",
    "    generated_ids = model.generate(input_ids, max_length=200)\n",
    "    return tokenizer.decode(generated_ids[0], skip_special_tokens=True)"
   ]
  },
  {
   "cell_type": "code",
   "execution_count": null,
   "metadata": {},
   "outputs": [],
   "source": [
    "def summarize_finetuned(code_tokens):\n",
    "    global counter_fine, size\n",
    "    print(f\"Fine tuned {counter_fine}/{size}\")\n",
    "    counter_fine += 1\n",
    "    input_ids = tokenizer(' '.join(code_tokens), return_tensors='pt').input_ids\n",
    "    generated_ids = finetuned_model.generate(input_ids, max_length=200)\n",
    "    return tokenizer.decode(generated_ids[0], skip_special_tokens=True)"
   ]
  },
  {
   "cell_type": "code",
   "execution_count": null,
   "metadata": {},
   "outputs": [],
   "source": [
    "def summarize_finetuned_small(code_tokens):\n",
    "    global counter_fine_small, size\n",
    "    print(f\"Small fine tuned {counter_fine_small}/{size}\")\n",
    "    counter_fine_small += 1\n",
    "    input_ids = tokenizer(' '.join(code_tokens), return_tensors='pt').input_ids\n",
    "    generated_ids = finetuned_model_small.generate(input_ids, max_length=200)\n",
    "    return tokenizer.decode(generated_ids[0], skip_special_tokens=True)"
   ]
  },
  {
   "cell_type": "code",
   "execution_count": null,
   "metadata": {
    "scrolled": true
   },
   "outputs": [],
   "source": [
    "%%time\n",
    "df['summarization'] = df['code_tokens'].apply(summarize)"
   ]
  },
  {
   "cell_type": "code",
   "execution_count": null,
   "metadata": {
    "scrolled": true
   },
   "outputs": [],
   "source": [
    "%%time\n",
    "df['summarization_finetuned'] = df['code_tokens'].apply(summarize_finetuned)"
   ]
  },
  {
   "cell_type": "code",
   "execution_count": null,
   "metadata": {},
   "outputs": [],
   "source": [
    "%%time\n",
    "df['summarization_finetuned_small'] = df['code_tokens'].apply(summarize_finetuned_small)"
   ]
  },
  {
   "cell_type": "code",
   "execution_count": null,
   "metadata": {},
   "outputs": [],
   "source": [
    "def compare(summarization, docstring):\n",
    "    embedding_1 = cosine_model.encode(summarization)\n",
    "    embedding_2 = cosine_model.encode([docstring, \"\"])\n",
    "    score = util.dot_score(embedding_1, embedding_2)[0].cpu().tolist()[0]\n",
    "    return score"
   ]
  },
  {
   "cell_type": "code",
   "execution_count": null,
   "metadata": {},
   "outputs": [],
   "source": [
    "df['score'] = df.apply(lambda x: compare(x.summarization, ' '.join(x.docstring_tokens)), axis=1)\n",
    "df['finetuned_score'] = df.apply(\n",
    "    lambda x: compare(x.summarization_finetuned, ' '.join(x.docstring_tokens)), axis=1)\n",
    "df['finetuned_small_score'] = df.apply(\n",
    "    lambda x: compare(x.summarization_finetuned_small, ' '.join(x.docstring_tokens)), axis=1)"
   ]
  },
  {
   "cell_type": "code",
   "execution_count": null,
   "metadata": {},
   "outputs": [],
   "source": [
    "df['score'].median()"
   ]
  },
  {
   "cell_type": "code",
   "execution_count": null,
   "metadata": {},
   "outputs": [],
   "source": [
    "df['finetuned_score'].median()"
   ]
  },
  {
   "cell_type": "code",
   "execution_count": null,
   "metadata": {},
   "outputs": [],
   "source": [
    "df['finetuned_small_score'].median()"
   ]
  },
  {
   "cell_type": "code",
   "execution_count": null,
   "metadata": {},
   "outputs": [],
   "source": [
    "df.to_csv(\"summarization_results.csv\", sep=',', encoding='utf-8')"
   ]
  },
  {
   "cell_type": "code",
   "execution_count": null,
   "outputs": [],
   "source": [
    "df = pd.read_csv('summarization_results.csv')"
   ],
   "metadata": {
    "collapsed": false
   }
  },
  {
   "cell_type": "code",
   "execution_count": null,
   "metadata": {},
   "outputs": [],
   "source": [
    "fig, (ax1, ax2, ax3) = plt.subplots(3,1, figsize=(10,10))\n",
    "df.loc[:, \"score\"].hist(ax=ax1)\n",
    "df.loc[:, \"finetuned_score\"].hist(ax=ax2)\n",
    "df.loc[:, \"finetuned_small_score\"].hist(ax=ax3)\n",
    "fig.tight_layout(pad=6.0)\n",
    "ax1.set_title(\"Salesforce/codet5-base-multi-sum\")\n",
    "ax2.set_title(\"cjwilliams/codet5_base_python_sum\")\n",
    "ax3.set_title(\"stmnk/codet5-small-code-summarization-python\")\n",
    "ax1.set_xlabel(\"Cosine Similarity\")\n",
    "ax2.set_xlabel(\"Cosine Similarity\")\n",
    "ax3.set_xlabel(\"Cosine Similarity\")\n",
    "ax1.set_ylabel(\"Count\")\n",
    "ax2.set_ylabel(\"Count\")\n",
    "ax3.set_ylabel(\"Count\")\n",
    "fig.suptitle(\"Function Summarization Performance\")\n",
    "fig.savefig(\"summarization-performance-histogram.png\", bbox_inches='tight')"
   ]
  },
  {
   "cell_type": "code",
   "execution_count": null,
   "metadata": {},
   "outputs": [],
   "source": [
    "fig, ax = plt.subplots(1, figsize=(15,15))\n",
    "df.rename(columns={\"score\": \"Salesforce/codet5-base-multi-sum\", \"finetuned_score\": \"cjwilliams/codet5_base_python_sum\", \"finetuned_small_score\": \"stmnk/codet5-small-code-summarization-python\"}).boxplot(column=['Salesforce/codet5-base-multi-sum', 'cjwilliams/codet5_base_python_sum', 'stmnk/codet5-small-code-summarization-python'], ax=ax)\n",
    "ax.set_ylabel(\"Cosine Similarity\")\n",
    "ax.set_xlabel(\"Models\")\n",
    "fig.suptitle(\"Function Summarization Performance\")\n",
    "fig.savefig(\"summarization-performance-boxplot.png\", bbox_inches='tight')"
   ]
  },
  {
   "cell_type": "markdown",
   "metadata": {},
   "source": [
    "## Assessing duration of summarization execution"
   ]
  },
  {
   "cell_type": "code",
   "execution_count": null,
   "metadata": {},
   "outputs": [],
   "source": [
    "import time\n",
    "res = pd.DataFrame(columns=['Salesforce/codet5-base-multi-sum', 'cjwilliams/codet5_base_python_sum', 'stmnk/codet5-small-code-summarization-python'])\n",
    "\n",
    "for index, row in df.sample(n=50).iterrows():\n",
    "    input_ids = tokenizer(' '.join(row['code_tokens']), return_tensors='pt').input_ids\n",
    "\n",
    "    start = time.time()\n",
    "    generated_ids = model.generate(input_ids, max_length=200)\n",
    "    duration = time.time() - start\n",
    "\n",
    "    start = time.time()\n",
    "    generated_ids = finetuned_model.generate(input_ids, max_length=200)\n",
    "    duration_fine = time.time() - start\n",
    "\n",
    "    start = time.time()\n",
    "    generated_ids = finetuned_model_small.generate(input_ids, max_length=200)\n",
    "    duration_small = time.time() - start\n",
    "    \n",
    "    res = res.append({'Salesforce/codet5-base-multi-sum': duration, 'cjwilliams/codet5_base_python_sum': duration_fine, 'stmnk/codet5-small-code-summarization-python': duration_small}, ignore_index=True)"
   ]
  },
  {
   "cell_type": "code",
   "execution_count": null,
   "metadata": {},
   "outputs": [],
   "source": [
    "fig, ax = plt.subplots(1, figsize=(15,15))\n",
    "res.boxplot(column=['Salesforce/codet5-base-multi-sum', 'cjwilliams/codet5_base_python_sum', 'stmnk/codet5-small-code-summarization-python'], ax=ax)\n",
    "ax.set_ylabel(\"Summarization Duration (seconds)\")\n",
    "ax.set_xlabel(\"Models\")\n",
    "fig.suptitle(\"Function Summarization Execution Duration\")\n",
    "fig.savefig(\"summarization-speed-boxplot.png\", bbox_inches='tight')"
   ]
  },
  {
   "cell_type": "code",
   "execution_count": null,
   "metadata": {},
   "outputs": [],
   "source": [
    "print(df['score'].median())"
   ]
  },
  {
   "cell_type": "code",
   "execution_count": null,
   "outputs": [],
   "source": [],
   "metadata": {
    "collapsed": false
   }
  }
 ],
 "metadata": {
  "kernelspec": {
   "display_name": "Python 3 (ipykernel)",
   "language": "python",
   "name": "python3"
  },
  "language_info": {
   "codemirror_mode": {
    "name": "ipython",
    "version": 3
   },
   "file_extension": ".py",
   "mimetype": "text/x-python",
   "name": "python",
   "nbconvert_exporter": "python",
   "pygments_lexer": "ipython3",
   "version": "3.10.8"
  }
 },
 "nbformat": 4,
 "nbformat_minor": 1
}
