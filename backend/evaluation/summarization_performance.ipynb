{
 "cells": [
  {
   "cell_type": "markdown",
   "source": [
    "# Function Summarization Evaluation"
   ],
   "metadata": {
    "collapsed": false
   }
  },
  {
   "cell_type": "markdown",
   "source": [
    "*Note: This notebook is modified from the CodeSearchNet [ExploreData.ipynb](https://github.com/github/CodeSearchNet/blob/master/notebooks/ExploreData.ipynb) notebook"
   ],
   "metadata": {
    "collapsed": false
   }
  },
  {
   "cell_type": "code",
   "execution_count": 1,
   "outputs": [
    {
     "name": "stdout",
     "output_type": "stream",
     "text": [
      "Requirement already satisfied: datasets in /opt/homebrew/Caskroom/miniforge/base/envs/repograph/lib/python3.10/site-packages (2.10.1)\r\n",
      "Requirement already satisfied: transformers in /opt/homebrew/Caskroom/miniforge/base/envs/repograph/lib/python3.10/site-packages (4.26.0)\r\n",
      "Requirement already satisfied: sentence_transformers in /opt/homebrew/Caskroom/miniforge/base/envs/repograph/lib/python3.10/site-packages (2.2.2)\r\n",
      "Requirement already satisfied: pandas in /opt/homebrew/Caskroom/miniforge/base/envs/repograph/lib/python3.10/site-packages (1.5.3)\r\n",
      "Requirement already satisfied: numpy>=1.17 in /opt/homebrew/Caskroom/miniforge/base/envs/repograph/lib/python3.10/site-packages (from datasets) (1.24.1)\r\n",
      "Requirement already satisfied: tqdm>=4.62.1 in /opt/homebrew/Caskroom/miniforge/base/envs/repograph/lib/python3.10/site-packages (from datasets) (4.64.1)\r\n",
      "Requirement already satisfied: pyarrow>=6.0.0 in /opt/homebrew/Caskroom/miniforge/base/envs/repograph/lib/python3.10/site-packages (from datasets) (11.0.0)\r\n",
      "Requirement already satisfied: multiprocess in /opt/homebrew/Caskroom/miniforge/base/envs/repograph/lib/python3.10/site-packages (from datasets) (0.70.14)\r\n",
      "Requirement already satisfied: packaging in /opt/homebrew/Caskroom/miniforge/base/envs/repograph/lib/python3.10/site-packages (from datasets) (23.0)\r\n",
      "Requirement already satisfied: requests>=2.19.0 in /opt/homebrew/Caskroom/miniforge/base/envs/repograph/lib/python3.10/site-packages (from datasets) (2.28.2)\r\n",
      "Requirement already satisfied: fsspec[http]>=2021.11.1 in /opt/homebrew/Caskroom/miniforge/base/envs/repograph/lib/python3.10/site-packages (from datasets) (2023.3.0)\r\n",
      "Requirement already satisfied: huggingface-hub<1.0.0,>=0.2.0 in /opt/homebrew/Caskroom/miniforge/base/envs/repograph/lib/python3.10/site-packages (from datasets) (0.12.0)\r\n",
      "Requirement already satisfied: responses<0.19 in /opt/homebrew/Caskroom/miniforge/base/envs/repograph/lib/python3.10/site-packages (from datasets) (0.18.0)\r\n",
      "Requirement already satisfied: pyyaml>=5.1 in /opt/homebrew/Caskroom/miniforge/base/envs/repograph/lib/python3.10/site-packages (from datasets) (6.0)\r\n",
      "Requirement already satisfied: xxhash in /opt/homebrew/Caskroom/miniforge/base/envs/repograph/lib/python3.10/site-packages (from datasets) (3.2.0)\r\n",
      "Requirement already satisfied: dill<0.3.7,>=0.3.0 in /opt/homebrew/Caskroom/miniforge/base/envs/repograph/lib/python3.10/site-packages (from datasets) (0.3.6)\r\n",
      "Requirement already satisfied: aiohttp in /opt/homebrew/Caskroom/miniforge/base/envs/repograph/lib/python3.10/site-packages (from datasets) (3.8.3)\r\n",
      "Requirement already satisfied: filelock in /opt/homebrew/Caskroom/miniforge/base/envs/repograph/lib/python3.10/site-packages (from transformers) (3.9.0)\r\n",
      "Requirement already satisfied: tokenizers!=0.11.3,<0.14,>=0.11.1 in /opt/homebrew/Caskroom/miniforge/base/envs/repograph/lib/python3.10/site-packages (from transformers) (0.13.2)\r\n",
      "Requirement already satisfied: regex!=2019.12.17 in /opt/homebrew/Caskroom/miniforge/base/envs/repograph/lib/python3.10/site-packages (from transformers) (2022.10.31)\r\n",
      "Requirement already satisfied: sentencepiece in /opt/homebrew/Caskroom/miniforge/base/envs/repograph/lib/python3.10/site-packages (from sentence_transformers) (0.1.97)\r\n",
      "Requirement already satisfied: torch>=1.6.0 in /opt/homebrew/Caskroom/miniforge/base/envs/repograph/lib/python3.10/site-packages (from sentence_transformers) (1.13.1)\r\n",
      "Requirement already satisfied: scipy in /opt/homebrew/Caskroom/miniforge/base/envs/repograph/lib/python3.10/site-packages (from sentence_transformers) (1.10.0)\r\n",
      "Requirement already satisfied: scikit-learn in /opt/homebrew/Caskroom/miniforge/base/envs/repograph/lib/python3.10/site-packages (from sentence_transformers) (1.2.1)\r\n",
      "Requirement already satisfied: nltk in /opt/homebrew/Caskroom/miniforge/base/envs/repograph/lib/python3.10/site-packages (from sentence_transformers) (3.8.1)\r\n",
      "Requirement already satisfied: torchvision in /opt/homebrew/Caskroom/miniforge/base/envs/repograph/lib/python3.10/site-packages (from sentence_transformers) (0.14.1)\r\n",
      "Requirement already satisfied: pytz>=2020.1 in /opt/homebrew/Caskroom/miniforge/base/envs/repograph/lib/python3.10/site-packages (from pandas) (2022.7.1)\r\n",
      "Requirement already satisfied: python-dateutil>=2.8.1 in /opt/homebrew/Caskroom/miniforge/base/envs/repograph/lib/python3.10/site-packages (from pandas) (2.8.2)\r\n",
      "Requirement already satisfied: aiosignal>=1.1.2 in /opt/homebrew/Caskroom/miniforge/base/envs/repograph/lib/python3.10/site-packages (from aiohttp->datasets) (1.3.1)\r\n",
      "Requirement already satisfied: async-timeout<5.0,>=4.0.0a3 in /opt/homebrew/Caskroom/miniforge/base/envs/repograph/lib/python3.10/site-packages (from aiohttp->datasets) (4.0.2)\r\n",
      "Requirement already satisfied: frozenlist>=1.1.1 in /opt/homebrew/Caskroom/miniforge/base/envs/repograph/lib/python3.10/site-packages (from aiohttp->datasets) (1.3.3)\r\n",
      "Requirement already satisfied: attrs>=17.3.0 in /opt/homebrew/Caskroom/miniforge/base/envs/repograph/lib/python3.10/site-packages (from aiohttp->datasets) (22.2.0)\r\n",
      "Requirement already satisfied: charset-normalizer<3.0,>=2.0 in /opt/homebrew/Caskroom/miniforge/base/envs/repograph/lib/python3.10/site-packages (from aiohttp->datasets) (2.1.1)\r\n",
      "Requirement already satisfied: yarl<2.0,>=1.0 in /opt/homebrew/Caskroom/miniforge/base/envs/repograph/lib/python3.10/site-packages (from aiohttp->datasets) (1.8.2)\r\n",
      "Requirement already satisfied: multidict<7.0,>=4.5 in /opt/homebrew/Caskroom/miniforge/base/envs/repograph/lib/python3.10/site-packages (from aiohttp->datasets) (6.0.4)\r\n",
      "Requirement already satisfied: typing-extensions>=3.7.4.3 in /opt/homebrew/Caskroom/miniforge/base/envs/repograph/lib/python3.10/site-packages (from huggingface-hub<1.0.0,>=0.2.0->datasets) (4.4.0)\r\n",
      "Requirement already satisfied: six>=1.5 in /opt/homebrew/Caskroom/miniforge/base/envs/repograph/lib/python3.10/site-packages (from python-dateutil>=2.8.1->pandas) (1.16.0)\r\n",
      "Requirement already satisfied: idna<4,>=2.5 in /opt/homebrew/Caskroom/miniforge/base/envs/repograph/lib/python3.10/site-packages (from requests>=2.19.0->datasets) (3.4)\r\n",
      "Requirement already satisfied: urllib3<1.27,>=1.21.1 in /opt/homebrew/Caskroom/miniforge/base/envs/repograph/lib/python3.10/site-packages (from requests>=2.19.0->datasets) (1.26.14)\r\n",
      "Requirement already satisfied: certifi>=2017.4.17 in /opt/homebrew/Caskroom/miniforge/base/envs/repograph/lib/python3.10/site-packages (from requests>=2.19.0->datasets) (2022.12.7)\r\n",
      "Requirement already satisfied: joblib in /opt/homebrew/Caskroom/miniforge/base/envs/repograph/lib/python3.10/site-packages (from nltk->sentence_transformers) (1.2.0)\r\n",
      "Requirement already satisfied: click in /opt/homebrew/Caskroom/miniforge/base/envs/repograph/lib/python3.10/site-packages (from nltk->sentence_transformers) (8.1.3)\r\n",
      "Requirement already satisfied: threadpoolctl>=2.0.0 in /opt/homebrew/Caskroom/miniforge/base/envs/repograph/lib/python3.10/site-packages (from scikit-learn->sentence_transformers) (3.1.0)\r\n",
      "Requirement already satisfied: pillow!=8.3.*,>=5.3.0 in /opt/homebrew/Caskroom/miniforge/base/envs/repograph/lib/python3.10/site-packages (from torchvision->sentence_transformers) (9.4.0)\r\n",
      "Note: you may need to restart the kernel to use updated packages.\n"
     ]
    }
   ],
   "source": [
    "%pip install datasets transformers sentence_transformers pandas"
   ],
   "metadata": {
    "collapsed": false
   }
  },
  {
   "cell_type": "code",
   "execution_count": 2,
   "metadata": {
    "collapsed": true
   },
   "outputs": [],
   "source": [
    "from datasets import load_dataset\n",
    "from transformers import T5ForConditionalGeneration, RobertaTokenizer\n",
    "from sentence_transformers import SentenceTransformer, util\n",
    "\n",
    "import pandas as pd"
   ]
  },
  {
   "cell_type": "code",
   "execution_count": 3,
   "outputs": [
    {
     "name": "stderr",
     "output_type": "stream",
     "text": [
      "Found cached dataset code_x_glue_ct_code_to_text (/Users/cjwilliams/.cache/huggingface/datasets/code_x_glue_ct_code_to_text/python/0.0.0/f8b7e9d51f609a87e7ec7c7431706d4ee0b402e3398560410313d4acc67060a0)\n"
     ]
    },
    {
     "data": {
      "text/plain": "  0%|          | 0/3 [00:00<?, ?it/s]",
      "application/vnd.jupyter.widget-view+json": {
       "version_major": 2,
       "version_minor": 0,
       "model_id": "17327cd98262402e83da13b9ab0033dd"
      }
     },
     "metadata": {},
     "output_type": "display_data"
    }
   ],
   "source": [
    "dataset = load_dataset(\"code_x_glue_ct_code_to_text\", \"python\")"
   ],
   "metadata": {
    "collapsed": false
   }
  },
  {
   "cell_type": "code",
   "execution_count": 26,
   "outputs": [
    {
     "data": {
      "text/plain": "id                  14918\nrepo                14918\npath                14918\nfunc_name           14918\noriginal_string     14918\nlanguage            14918\ncode                14918\ncode_tokens         14918\ndocstring           14918\ndocstring_tokens    14918\nsha                 14918\nurl                 14918\ndtype: int64"
     },
     "execution_count": 26,
     "metadata": {},
     "output_type": "execute_result"
    }
   ],
   "source": [
    "df = pd.DataFrame(dataset['test'])"
   ],
   "metadata": {
    "collapsed": false
   }
  },
  {
   "cell_type": "code",
   "execution_count": 20,
   "outputs": [],
   "source": [
    "tokenizer = RobertaTokenizer.from_pretrained(\"Salesforce/codet5-base\")\n",
    "model = T5ForConditionalGeneration.from_pretrained(\"Salesforce/codet5-base-multi-sum\")\n",
    "cosine_model = SentenceTransformer(\"sentence-transformers/multi-qa-distilbert-cos-v1\")\n",
    "finetuned_model = T5ForConditionalGeneration.from_pretrained(\n",
    "    \"stmnk/codet5-small-code-summarization-python\")"
   ],
   "metadata": {
    "collapsed": false
   }
  },
  {
   "cell_type": "code",
   "execution_count": 21,
   "outputs": [],
   "source": [
    "def summarize(code_tokens):\n",
    "    input_ids = tokenizer(' '.join(code_tokens), return_tensors='pt').input_ids\n",
    "    generated_ids = model.generate(input_ids, max_length=200)\n",
    "    return tokenizer.decode(generated_ids[0], skip_special_tokens=True)"
   ],
   "metadata": {
    "collapsed": false
   }
  },
  {
   "cell_type": "code",
   "execution_count": 22,
   "outputs": [],
   "source": [
    "def summarize_finetuned(code_tokens):\n",
    "    input_ids = tokenizer(' '.join(code_tokens), return_tensors='pt').input_ids\n",
    "    generated_ids = finetuned_model.generate(input_ids, max_length=200)\n",
    "    return tokenizer.decode(generated_ids[0], skip_special_tokens=True)"
   ],
   "metadata": {
    "collapsed": false
   }
  },
  {
   "cell_type": "code",
   "execution_count": 23,
   "outputs": [
    {
     "name": "stdout",
     "output_type": "stream",
     "text": [
      "CPU times: user 7.03 s, sys: 859 ms, total: 7.89 s\n",
      "Wall time: 6.83 s\n"
     ]
    }
   ],
   "source": [
    "%%time\n",
    "df['summarization'] = df['code_tokens'].apply(summarize)\n",
    "df['summarization_finetuned'] = df['code_tokens'].apply(summarize_finetuned)"
   ],
   "metadata": {
    "collapsed": false
   }
  },
  {
   "cell_type": "code",
   "execution_count": 10,
   "outputs": [],
   "source": [
    "def compare(summarization, docstring):\n",
    "    embedding_1 = cosine_model.encode(summarization)\n",
    "    embedding_2 = cosine_model.encode([docstring, \"\"])\n",
    "    score = util.dot_score(embedding_1, embedding_2)[0].cpu().tolist()[0]\n",
    "    return abs(score)"
   ],
   "metadata": {
    "collapsed": false
   }
  },
  {
   "cell_type": "code",
   "execution_count": 11,
   "outputs": [],
   "source": [
    "df['score'] = df.apply(lambda x: compare(x.summarization, ' '.join(x.docstring_tokens)), axis=1)\n",
    "df['finetuned_score'] = df.apply(\n",
    "    lambda x: compare(x.summarization_finetuned, ' '.join(x.docstring_tokens)), axis=1)"
   ],
   "metadata": {
    "collapsed": false
   }
  },
  {
   "cell_type": "code",
   "execution_count": 12,
   "outputs": [
    {
     "data": {
      "text/plain": "0.5839301273226738"
     },
     "execution_count": 12,
     "metadata": {},
     "output_type": "execute_result"
    }
   ],
   "source": [
    "df['score'].mean()"
   ],
   "metadata": {
    "collapsed": false
   }
  },
  {
   "cell_type": "code",
   "execution_count": 13,
   "outputs": [
    {
     "data": {
      "text/plain": "0.4003072716295719"
     },
     "execution_count": 13,
     "metadata": {},
     "output_type": "execute_result"
    }
   ],
   "source": [
    "df['finetuned_score'].mean()"
   ],
   "metadata": {
    "collapsed": false
   }
  },
  {
   "cell_type": "code",
   "execution_count": 13,
   "outputs": [],
   "source": [],
   "metadata": {
    "collapsed": false
   }
  }
 ],
 "metadata": {
  "kernelspec": {
   "display_name": "Python 3",
   "language": "python",
   "name": "python3"
  },
  "language_info": {
   "codemirror_mode": {
    "name": "ipython",
    "version": 2
   },
   "file_extension": ".py",
   "mimetype": "text/x-python",
   "name": "python",
   "nbconvert_exporter": "python",
   "pygments_lexer": "ipython2",
   "version": "2.7.6"
  }
 },
 "nbformat": 4,
 "nbformat_minor": 0
}
