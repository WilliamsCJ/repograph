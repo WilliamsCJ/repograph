{
 "cells": [
  {
   "cell_type": "markdown",
   "id": "b7cc0d9e",
   "metadata": {},
   "source": [
    "# Single Repository Demo"
   ]
  },
  {
   "cell_type": "code",
   "execution_count": 6,
   "id": "29f98acf",
   "metadata": {},
   "outputs": [
    {
     "data": {
      "application/javascript": [
       "var link = document.createElement(\"link\");\n",
       "\tlink.rel = \"stylesheet\";\n",
       "\tlink.type = \"text/css\";\n",
       "\tlink.href = \"https://cdnjs.cloudflare.com/ajax/libs/vis/4.8.2/vis.css\";\n",
       "\tdocument.head.appendChild(link);\n",
       "require.config({     paths: {         vis: '//cdnjs.cloudflare.com/ajax/libs/vis/4.8.2/vis.min'     } }); require(['vis'], function(vis) {  window.vis = vis; }); "
      ],
      "text/plain": [
       "<IPython.core.display.Javascript object>"
      ]
     },
     "metadata": {},
     "output_type": "display_data"
    }
   ],
   "source": [
    "from py2neo import Graph, Subgraph\n",
    "import neo4jupyter\n",
    "import subprocess\n",
    "neo4jupyter.init_notebook_mode()"
   ]
  },
  {
   "cell_type": "code",
   "execution_count": 7,
   "id": "21e13b44",
   "metadata": {},
   "outputs": [],
   "source": [
    "repo_path = \"../demo/pyLODE-out\"\n",
    "repo_name = \"pyLODE\""
   ]
  },
  {
   "cell_type": "markdown",
   "id": "6c1c4826",
   "metadata": {},
   "source": [
    "## Run Repograph builder\n",
    "\n",
    "This may take some time!"
   ]
  },
  {
   "cell_type": "code",
   "execution_count": 8,
   "id": "b09c3a19",
   "metadata": {},
   "outputs": [],
   "source": [
    "from repograph.builder.repograph_builder import RepographBuilder, RepographBuildError\n",
    "from repograph.builder.code_analyser import call_inspect4py, cleanup_inspect4py_output\n",
    "from repograph.cli import parse_inspect4py_output"
   ]
  },
  {
   "cell_type": "code",
   "execution_count": 9,
   "id": "d2bab55c",
   "metadata": {
    "scrolled": true
   },
   "outputs": [
    {
     "name": "stdout",
     "output_type": "stream",
     "text": [
      "INFO:repograph.builder.function_summarizer | Initialising CodeT5 model...\n",
      "INFO:repograph.builder.function_summarizer | Ready!\n",
      "ERROR:repograph.cli | Couldn't find call_graph.json in input directory!\n",
      "INFO:repograph.repograph_builder | Building Repograph...\n",
      "INFO:repograph.repograph_builder | Sorting directories with hierarchical ordering...\n",
      "INFO:repograph.repograph_builder | --> Parsing file `setup` (1/1)\n",
      "WARNING:repograph.repograph_builder | AST missing for function open_local\n",
      "WARNING:repograph.repograph_builder | No requirements information found.\n",
      "INFO:repograph.repograph_builder | Parsing repository license information.\n",
      "INFO:repograph.repograph_builder | Extracting information from directories...\n",
      "INFO:repograph.repograph_builder | Parsing directory 'pyLODE/examples' (1/4)\n",
      "INFO:repograph.repograph_builder | --> Parsing file `regenerate_all` (1/1)\n",
      "INFO:repograph.repograph_builder | Parsing directory 'pyLODE/pylode' (2/4)\n",
      "INFO:repograph.repograph_builder | --> Parsing file `version` (1/6)\n",
      "INFO:repograph.repograph_builder | --> Parsing file `__init__` (2/6)\n",
      "INFO:repograph.repograph_builder | --> Parsing file `rdf_elements` (3/6)\n",
      "INFO:repograph.repograph_builder | --> Parsing file `cli` (4/6)\n",
      "INFO:repograph.repograph_builder | --> Parsing file `utils` (5/6)\n",
      "INFO:repograph.repograph_builder | --> Parsing file `__main__` (6/6)\n",
      "WARNING:repograph.repograph_builder | AST missing for function main\n",
      "WARNING:repograph.repograph_builder | AST missing for function check_all_props_are_known\n",
      "WARNING:repograph.repograph_builder | AST missing for function get_ns\n",
      "WARNING:repograph.repograph_builder | AST missing for function make_title_from_iri\n",
      "WARNING:repograph.repograph_builder | AST missing for function generate_fid\n",
      "WARNING:repograph.repograph_builder | AST missing for function back_onts_label_props\n",
      "WARNING:repograph.repograph_builder | AST missing for function load_ontology\n",
      "WARNING:repograph.repograph_builder | AST missing for function load_background_onts\n",
      "WARNING:repograph.repograph_builder | AST missing for function load_background_onts_titles\n",
      "WARNING:repograph.repograph_builder | AST missing for function rdf_obj_html\n"
     ]
    },
    {
     "name": "stderr",
     "output_type": "stream",
     "text": [
      "Token indices sequence length is longer than the specified maximum sequence length for this model (3821 > 512). Running this sequence through the model will result in indexing errors\n"
     ]
    },
    {
     "name": "stdout",
     "output_type": "stream",
     "text": [
      "WARNING:repograph.repograph_builder | AST missing for function prop_obj_pair_html\n",
      "WARNING:repograph.repograph_builder | AST missing for function section_html\n",
      "WARNING:repograph.repograph_builder | AST missing for function de_space_html\n",
      "WARNING:repograph.repograph_builder | AST missing for function make_pylode_logo\n",
      "INFO:repograph.repograph_builder | Parsing directory 'pyLODE/tests' (3/4)\n",
      "INFO:repograph.repograph_builder | --> Parsing file `test_utils` (1/4)\n",
      "INFO:repograph.repograph_builder | --> Parsing file `test_doc_html` (2/4)\n",
      "INFO:repograph.repograph_builder | --> Parsing file `test_features` (3/4)\n",
      "INFO:repograph.repograph_builder | --> Parsing file `test_errors` (4/4)\n",
      "WARNING:repograph.repograph_builder | AST missing for function fix_ont\n",
      "WARNING:repograph.repograph_builder | AST missing for function fix_load_background_onts\n",
      "WARNING:repograph.repograph_builder | AST missing for function fix_get_ns\n",
      "WARNING:repograph.repograph_builder | AST missing for function test_get_ns\n",
      "WARNING:repograph.repograph_builder | AST missing for function test_make_title_from_iri\n",
      "WARNING:repograph.repograph_builder | AST missing for function test_generate_fid\n",
      "WARNING:repograph.repograph_builder | AST missing for function test_rdf_obj_html\n",
      "WARNING:repograph.repograph_builder | AST missing for function test_rdf_obj_html_bn\n",
      "WARNING:repograph.repograph_builder | AST missing for function test_prop_obj_pair_html\n",
      "WARNING:repograph.repograph_builder | AST missing for function fix_html\n",
      "WARNING:repograph.repograph_builder | AST missing for function test_sdo\n",
      "WARNING:repograph.repograph_builder | AST missing for function test_logo\n",
      "WARNING:repograph.repograph_builder | AST missing for function test_metadata\n",
      "WARNING:repograph.repograph_builder | AST missing for function test_classes\n",
      "WARNING:repograph.repograph_builder | AST missing for function test_properties\n",
      "WARNING:repograph.repograph_builder | AST missing for function test_namespaces\n",
      "WARNING:repograph.repograph_builder | AST missing for function test_legend\n",
      "WARNING:repograph.repograph_builder | AST missing for function test_toc\n",
      "WARNING:repograph.repograph_builder | AST missing for function test_example_preformatting\n",
      "WARNING:repograph.repograph_builder | AST missing for function test_no_title\n",
      "WARNING:repograph.repograph_builder | AST missing for function test_invalid_rdf\n",
      "WARNING:repograph.repograph_builder | AST missing for function test_no_file\n",
      "INFO:repograph.repograph_builder | Parsing directory 'pyLODE/pylode/profiles' (4/4)\n",
      "INFO:repograph.repograph_builder | --> Parsing file `ontpub` (1/3)\n",
      "INFO:repograph.repograph_builder | --> Parsing file `__init__` (2/3)\n",
      "INFO:repograph.repograph_builder | --> Parsing file `vocpub` (3/3)\n",
      "WARNING:repograph.repograph_builder | AST missing for function __init__\n",
      "WARNING:repograph.repograph_builder | AST missing for function make_html\n",
      "WARNING:repograph.repograph_builder | AST missing for function _ontdoc_inference\n",
      "WARNING:repograph.repograph_builder | AST missing for function _make_head\n",
      "WARNING:repograph.repograph_builder | AST missing for function _make_body\n",
      "WARNING:repograph.repograph_builder | AST missing for function _make_metadata\n",
      "WARNING:repograph.repograph_builder | AST missing for function _make_schema_org\n",
      "WARNING:repograph.repograph_builder | AST missing for function _make_main_sections\n",
      "WARNING:repograph.repograph_builder | AST missing for function _make_legend\n",
      "WARNING:repograph.repograph_builder | AST missing for function _make_namespaces\n",
      "WARNING:repograph.repograph_builder | AST missing for function _make_toc\n",
      "WARNING:repograph.repograph_builder | AST missing for function __init__\n",
      "WARNING:repograph.repograph_builder | AST missing for function make_html\n",
      "WARNING:repograph.repograph_builder | AST missing for function _ontdoc_inference\n",
      "WARNING:repograph.repograph_builder | AST missing for function _make_head\n",
      "WARNING:repograph.repograph_builder | AST missing for function _make_body\n",
      "WARNING:repograph.repograph_builder | AST missing for function _make_metadata\n",
      "WARNING:repograph.repograph_builder | AST missing for function _make_schema_org\n",
      "WARNING:repograph.repograph_builder | AST missing for function _make_main_sections\n",
      "WARNING:repograph.repograph_builder | AST missing for function _make_legend\n",
      "WARNING:repograph.repograph_builder | AST missing for function _make_namespaces\n",
      "WARNING:repograph.repograph_builder | AST missing for function _make_toc\n",
      "INFO:repograph.repograph_builder | Parsing module dependencies...\n",
      "INFO:repograph.repograph_builder | Parsing dependencies...\n",
      "WARNING:repograph.repograph_builder | More than 1 matching object found in import.\n",
      "WARNING:repograph.repograph_builder | More than 1 matching object found in import.\n",
      "WARNING:repograph.repograph_builder | More than 1 matching object found in import.\n",
      "WARNING:repograph.repograph_builder | More than 1 matching object found in import.\n",
      "WARNING:repograph.repograph_builder | More than 1 matching object found in import.\n",
      "WARNING:repograph.repograph_builder | More than 1 matching object found in import.\n",
      "WARNING:repograph.repograph_builder | More than 1 matching object found in import.\n",
      "WARNING:repograph.repograph_builder | More than 1 matching object found in import.\n",
      "WARNING:repograph.repograph_builder | More than 1 matching object found in import.\n",
      "WARNING:repograph.repograph_builder | More than 1 matching object found in import.\n",
      "WARNING:repograph.repograph_builder | More than 1 matching object found in import.\n",
      "WARNING:repograph.repograph_builder | More than 1 matching object found in import.\n",
      "WARNING:repograph.repograph_builder | More than 1 matching object found in import.\n",
      "WARNING:repograph.repograph_builder | More than 1 matching object found in import.\n",
      "WARNING:repograph.repograph_builder | More than 1 matching object found in import.\n",
      "WARNING:repograph.repograph_builder | Module provides no objects\n",
      "WARNING:repograph.repograph_builder | Module provides no objects\n",
      "WARNING:repograph.repograph_builder | More than 1 matching object found in import.\n",
      "WARNING:repograph.repograph_builder | More than 1 matching object found in import.\n",
      "WARNING:repograph.repograph_builder | More than 1 matching object found in import.\n",
      "WARNING:repograph.repograph_builder | More than 1 matching object found in import.\n",
      "WARNING:repograph.repograph_builder | More than 1 matching object found in import.\n",
      "WARNING:repograph.repograph_builder | More than 1 matching object found in import.\n",
      "WARNING:repograph.repograph_builder | More than 1 matching object found in import.\n",
      "WARNING:repograph.repograph_builder | More than 1 matching object found in import.\n",
      "WARNING:repograph.repograph_builder | More than 1 matching object found in import.\n",
      "WARNING:repograph.repograph_builder | More than 1 matching object found in import.\n",
      "WARNING:repograph.repograph_builder | More than 1 matching object found in import.\n",
      "WARNING:repograph.repograph_builder | More than 1 matching object found in import.\n",
      "WARNING:repograph.repograph_builder | More than 1 matching object found in import.\n",
      "WARNING:repograph.repograph_builder | More than 1 matching object found in import.\n",
      "WARNING:repograph.repograph_builder | More than 1 matching object found in import.\n",
      "WARNING:repograph.repograph_builder | More than 1 matching object found in import.\n",
      "WARNING:repograph.repograph_builder | More than 1 matching object found in import.\n",
      "WARNING:repograph.repograph_builder | More than 1 matching object found in import.\n",
      "WARNING:repograph.repograph_builder | More than 1 matching object found in import.\n",
      "WARNING:repograph.repograph_builder | More than 1 matching object found in import.\n",
      "WARNING:repograph.repograph_builder | Module provides no objects\n",
      "WARNING:repograph.repograph_builder | Module provides no objects\n",
      "WARNING:repograph.repograph_builder | More than 1 matching object found in import.\n",
      "WARNING:repograph.repograph_builder | More than 1 matching object found in import.\n",
      "WARNING:repograph.repograph_builder | More than 1 matching object found in import.\n",
      "WARNING:repograph.repograph_builder | More than 1 matching object found in import.\n",
      "WARNING:repograph.repograph_builder | More than 1 matching object found in import.\n",
      "INFO:repograph.repograph_builder | Parsing README files...\n",
      "ERROR:repograph.repograph_builder | Couldn't find parent for README at path: pyLODE-out/pyLODE/README.rst\n"
     ]
    },
    {
     "name": "stdout",
     "output_type": "stream",
     "text": [
      "INFO:repograph.repograph_builder | Successfully built a Repograph!\n"
     ]
    }
   ],
   "source": [
    "builder = RepographBuilder(\n",
    "    \"neo4j://localhost:7687\",\n",
    "    \"neo4j\",\n",
    "    \"s3cr3t\",\n",
    "    \"neo4j\",\n",
    "    True,\n",
    "    True\n",
    ")\n",
    "\n",
    "directory_info, call_graph = parse_inspect4py_output(repo_path)\n",
    "repograph = builder.build(directory_info)  # noqa"
   ]
  },
  {
   "cell_type": "markdown",
   "id": "cbf14ff9",
   "metadata": {},
   "source": [
    "## Query the requirements of the repository"
   ]
  },
  {
   "cell_type": "code",
   "execution_count": 5,
   "id": "42ddc37a",
   "metadata": {
    "scrolled": true
   },
   "outputs": [
    {
     "ename": "AttributeError",
     "evalue": "'NoneType' object has no attribute 'nodes'",
     "output_type": "error",
     "traceback": [
      "\u001b[0;31m---------------------------------------------------------------------------\u001b[0m",
      "\u001b[0;31mAttributeError\u001b[0m                            Traceback (most recent call last)",
      "Cell \u001b[0;32mIn[5], line 2\u001b[0m\n\u001b[1;32m      1\u001b[0m cursor \u001b[38;5;241m=\u001b[39m repograph\u001b[38;5;241m.\u001b[39mgraph\u001b[38;5;241m.\u001b[39mrun(\u001b[38;5;124m\"\u001b[39m\u001b[38;5;124mMATCH ()-[r:Requires]->(p) RETURN p\u001b[39m\u001b[38;5;124m\"\u001b[39m)\n\u001b[0;32m----> 2\u001b[0m \u001b[43mneo4jupyter\u001b[49m\u001b[38;5;241;43m.\u001b[39;49m\u001b[43mdraw_subgraph\u001b[49m\u001b[43m(\u001b[49m\u001b[43mcursor\u001b[49m\u001b[38;5;241;43m.\u001b[39;49m\u001b[43mto_subgraph\u001b[49m\u001b[43m(\u001b[49m\u001b[43m)\u001b[49m\u001b[43m,\u001b[49m\u001b[43m \u001b[49m\u001b[43m{\u001b[49m\u001b[38;5;124;43m\"\u001b[39;49m\u001b[38;5;124;43mPackage\u001b[39;49m\u001b[38;5;124;43m\"\u001b[39;49m\u001b[43m:\u001b[49m\u001b[43m \u001b[49m\u001b[38;5;124;43m\"\u001b[39;49m\u001b[38;5;124;43mname\u001b[39;49m\u001b[38;5;124;43m\"\u001b[39;49m\u001b[43m}\u001b[49m\u001b[43m)\u001b[49m\n",
      "File \u001b[0;32m/opt/homebrew/Caskroom/miniforge/base/envs/repograph/lib/python3.9/site-packages/neo4jupyter/neo4jupyter.py:140\u001b[0m, in \u001b[0;36mdraw_subgraph\u001b[0;34m(subgraph, options, physics, limit)\u001b[0m\n\u001b[1;32m    128\u001b[0m \u001b[38;5;28;01mdef\u001b[39;00m \u001b[38;5;21mdraw_subgraph\u001b[39m(subgraph, options, physics\u001b[38;5;241m=\u001b[39m\u001b[38;5;28;01mTrue\u001b[39;00m, limit\u001b[38;5;241m=\u001b[39m\u001b[38;5;241m100\u001b[39m):\n\u001b[1;32m    129\u001b[0m     \u001b[38;5;124;03m\"\"\"\u001b[39;00m\n\u001b[1;32m    130\u001b[0m \u001b[38;5;124;03m    The options argument should be a dictionary of node labels and property keys; it determines which property\u001b[39;00m\n\u001b[1;32m    131\u001b[0m \u001b[38;5;124;03m    is displayed for the node label. For example, in the movie graph, options = {\"Movie\": \"title\", \"Person\": \"name\"}.\u001b[39;00m\n\u001b[0;32m   (...)\u001b[0m\n\u001b[1;32m    137\u001b[0m \u001b[38;5;124;03m    :return: IPython.display.HTML\u001b[39;00m\n\u001b[1;32m    138\u001b[0m \u001b[38;5;124;03m    \"\"\"\u001b[39;00m\n\u001b[0;32m--> 140\u001b[0m     nodes \u001b[38;5;241m=\u001b[39m [get_vis_node_info(n,options) \u001b[38;5;28;01mfor\u001b[39;00m n \u001b[38;5;129;01min\u001b[39;00m \u001b[43msubgraph\u001b[49m\u001b[38;5;241;43m.\u001b[39;49m\u001b[43mnodes\u001b[49m]\n\u001b[1;32m    141\u001b[0m     edges \u001b[38;5;241m=\u001b[39m [get_vis_edge_info(r) \u001b[38;5;28;01mfor\u001b[39;00m r \u001b[38;5;129;01min\u001b[39;00m subgraph\u001b[38;5;241m.\u001b[39mrelationships]\n\u001b[1;32m    142\u001b[0m     \u001b[38;5;28;01mreturn\u001b[39;00m vis_network(nodes, edges, physics\u001b[38;5;241m=\u001b[39mphysics)\n",
      "\u001b[0;31mAttributeError\u001b[0m: 'NoneType' object has no attribute 'nodes'"
     ]
    }
   ],
   "source": [
    "cursor = repograph.graph.run(\"MATCH ()-[r:Requires]->(p) RETURN p\")\n",
    "neo4jupyter.draw_subgraph(cursor.to_subgraph(), {\"Package\": \"name\"})"
   ]
  },
  {
   "cell_type": "markdown",
   "id": "7a467cba",
   "metadata": {},
   "source": [
    "## Select the README files of the repository"
   ]
  },
  {
   "cell_type": "code",
   "execution_count": 11,
   "id": "4dcda0d9",
   "metadata": {},
   "outputs": [
    {
     "data": {
      "text/html": [
       "<div id=\"17181b25-bc37-4e5d-ab8e-a0028b894514\" style=\"height: 400px;\"></div>\n",
       "\n",
       "<script type=\"text/javascript\">\n",
       "\n",
       "    var nodes = [{\"id\": 5893331760, \"label\": \"pyLODE-out/pyLODE/README.rst\", \"group\": \"README\", \"title\": \"Node('README', content='.. image:: https://rawcdn.githack.com/RDFLib/pyLODE/b1ff1b1e19262cdc21ee28c7362b1690ca18e30b/img/pyLODE-250.png\\\\n\\\\n.. image:: https://badge.fury.io/py/pyLODE.svg\\\\n    :target: https://badge.fury.io/py/pyLODE\\\\n\\\\npyLODE\\\\n******\\\\nAn OWL ontology documentation tool using Python, based on LODE.\\\\n\\\\nIn addition to making web page, human-readable forms of ontologies, pyLODE encourages ontology annotation *best\\\\npractice* by only producing good results for well documented inputs! pyLODE defines what it considers \\\\'well documented\\\\'\\\\nin sections below, e.g. `What pyLODE understands`_.\\\\n\\\\n----\\\\n\\\\n**A note on the v 3.x change**\\\\n\\\\nThis is pyLODE version 3.0.1 and it\\\\'s vastly different from pyLODE 2.x. It doesn\\\\'t yet handle all the various \\\"profiles\\\" that pyLODE 2.13.2 does, such as SKOS \\\\'vocabularies\\\\' & Profiles Vocabulary \\\\'profiles\\\\', it only handles OWL \\\\'ontologies\\\\', nor all the special data types, such as JSON literals, BUT, it generates HTML in a much more straightforward manner and the code is both more efficient and much more maintainable, which is why it\\\\'s been made.\\\\n\\\\nv 3.x will eventually catch up to all of v 2.13.2\\\\'s features.\\\\n\\\\nTo access v 2.13.2 of pyLODE, either `download it from PyPI <https://pypi.org/project/pyLODE/2.13.2/>`_ , `check it out from GitHub <https://github.com/RDFLib/pyLODE/releases/tag/2.13.2>`_ or access it via the `online service <http://pylode.surroundaustralia.com/>`_ .\\\\n\\\\n----\\\\n\\\\nContents\\\\n========\\\\n1. `Quick Intro`_\\\\n2. Use_\\\\n3. `What pyLODE understands`_\\\\n4. Examples_\\\\n5. Installation_\\\\n6. Testing_\\\\n7. `Differences from LODE`_\\\\n8. `Releases`_\\\\n9. License_\\\\n10. Citation_\\\\n11. Collaboration_\\\\n12. Contacts_\\\\n\\\\n\\\\nQuick Intro\\\\n===========\\\\nThe Live OWL Documentation Environment tool\\\\n(`LODE <https://github.com/essepuntato/LODE>`__) is a well-known (in\\\\nSemantic Web circles) Java & XSLT-based tool used to generate\\\\nhuman-readable HTML documents for OWL and RDF ontologies. That tool is\\\\nnow a bit dated (old-style HTML, use of older technologies like XSLT)\\\\nand its (`online version <https://www.essepuntato.it/lode>`__) is not always\\\\nonline.\\\\n\\\\nThis tool is a complete re-implementation of LODE\\\\'s functionality using\\\\nPython and Python\\\\'s RDF manipulation module,\\\\n`rdflib <https://pypi.org/project/rdflib/>`__. An ontology to be\\\\ndocumented is parsed and inspected using rdflib and HTML is generated\\\\ndirectly, using Python\\\\'s `dominate <https://pypi.org/project/dominate/>`__\\\\npackage.\\\\n\\\\nUse\\\\n===\\\\n\\\\nThe tool can be used in multiple ways:\\\\n\\\\n- BASH command line script\\\\n    - pyLODE.sh in bin/\\\\n- Windows EXE\\\\n    - pyLODE.exe in bin/\\\\n- Mac executable\\\\n    - pyLODE in bin/\\\\n- Python Script\\\\n    - cli.py or module\\\\n- as-a-service locally\\\\n    - via the popular `Falcon framework <https://falconframework.org/>`__.\\\\n    - see server.py in the main folder\\\\n- as-a-service online\\\\n    - hosted at https://pylode.surroundaustralia.com\\\\n\\\\nCommand line arguments\\\\n----------------------\\\\n\\\\nThe BASH, Windows EXE and Python Script methods all use the same command line\\\\narguments:\\\\n\\\\n::\\\\n\\\\n    usage: cli.py [-h] [-v] [-o OUTPUTFILE] [-c {true,false}] input\\\\n\\\\n    positional arguments:\\\\n        input                 Input file location or URL\\\\n\\\\n    optional arguments:\\\\n        -h, --help          show this help message and exit\\\\n        -v, --version       show program\\\\'s version number and exit\\\\n        -o OUTPUTFILE,\\\\n        --outputfile OUTPUTFILE\\\\n                            A name you wish to assign to the output file. Will be\\\\n                            postfixed with .html if not already added. If no\\\\n                            output file is given, output will be printed to screen\\\\n        -c {true,false},\\\\n        --css {true,false}\\\\n                            Whether (true) or not (false) to include CSS within an\\\\n                            output HTML file.\\\\n\\\\nBasic Use\\\\n^^^^^^^^^\\\\n\\\\n* as a Python script\\\\n* executed in this directory\\\\n\\\\n::\\\\n\\\\n    python pylode examples/minimal.ttl -o minimal.html\\\\n\\\\nThis will produce the file ``minimal.html`` in this directory which should\\\\nmatch exactly the file ``examples/minimal.html``.\\\\n\\\\n* as a docker container\\\\n\\\\nbuild the docker image\\\\n::\\\\n   docker build -t pylode:latest .\\\\n\\\\ncopy the example directory, mount it to the countainer and run cli.py in the container\\\\n::\\\\n   docker  run  --mount \\\\'type=bind,src=<ttl_directory>,target=/app/pylode/data\\\\' pylode:latest  python3.10 pylode/cli.py data/<ttl_file> -o data/<html_file>\\\\n\\\\n   Note: <ttl_directory> must be absolute \\\\n\\\\nModule Use\\\\n^^^^^^^^^^\\\\n\\\\n::\\\\n\\\\n    from pylode import OntDoc\\\\n\\\\n    # initialise\\\\n    od = OntDoc(ontology=\\\"some-ontology-file.ttl\\\")\\\\n\\\\n    # produce HTML\\\\n    html = od.make_html()\\\\n\\\\n    # or save HTML to a file\\\\n    od.make_html(destination=\\\"some-resulting-html-file.html\\\")\\\\n\\\\nThis will read from ``some-ontology-file.ttl`` to produce the file ``some-resulting-html-file.html`` in this directory.\\\\n\\\\nExamples\\\\n========\\\\n\\\\nThe `examples/ directory <https://github.com/RDFLib/pyLODE/tree/master/examples>`_\\\\ncontains multiple pairs of RDF & HTML files generated from them using this\\\\nversion of pyLODE.\\\\n\\\\nYou can also see rendered versions of these example files online too:\\\\n\\\\n* `minimal.html <https://rdflib.dev/pyLODE/examples/ontdoc/minimal.html>`_\\\\n* `agift.html <https://rdflib.dev/pyLODE/examples/ontdoc/agrif.html>`_\\\\n* `alternates.html <https://rdflib.dev/pyLODE/examples/ontdoc/alternates.html>`_\\\\n* `asgs.html <https://rdflib.dev/pyLODE/examples/ontdoc/asgs.html>`_\\\\n\\\\n\\\\nWhat pyLODE understands\\\\n=======================\\\\n\\\\npyLODE knows about definitional ontologies (``owl:Ontology``) and the major\\\\nelements usually found in them, such as classes (``owl:Class`` or ``rdf:Class)\\\\nand properties (``rdf:Property`` & ``owl:ObjectProperty`` etc.).\\\\n\\\\nTo see what properties for ontology, class and RDF property documentation\\\\npyLODE currently supports, just look in the ``rdf_elements.py`` file. All\\\\nelements\\\\' properties supported are given in property lists there.\\\\n\\\\npyLODES won\\\\'t just translate everything that you can describe in RDF into\\\\nHTML! This is a conscious design choice to ensure that a certain conventional\\\\nstyle of documented ontology is produced. However, support for new\\\\nproperties and ontology patterns can be made - just create an Issue on\\\\n`this project\\\\'s Issue tracker <https://github.com/RDFLib/pyLODE/issues>`__.\\\\n\\\\nWhile it *does* know about instance data, such as Named Individuals, it\\\\'s\\\\nnot really designed to document large ontologies containing class instances.\\\\n\\\\nNotes on Agents\\\\n---------------\\\\npyLODE can understand both simple and complex Agent objects. You can use\\\\nsimple string properties like ``dc:contributor \\\"Nicholas J. Car\\\"`` too if\\\\nyou really must but better would be to take advantage of real Linked Data\\\\nrepresentation, e.g. complex Agent objects with web addresses, emails,\\\\naffiliations, ORCIDs and so on, e.g.:\\\\n\\\\n::\\\\n\\\\n    <ontology_x>\\\\n        dct:creator [\\\\n            sdo:name \\\"Nicholas J. Car\\\" ;\\\\n            sdo:identifier <http://orcid.org/0000-0002-8742-7730> ;\\\\n            sdo:affiliation [\\\\n                sdo:name \\\"SURROUND Australia Pty Ldt.\\\" ;\\\\n                sdo:url \\\"https://surroundaustralia.com\\\"^^xsd:anyURI ;\\\\n            ] ;\\\\n        ] ;\\\\n\\\\nSee all the properties in ``rdf_elements.py:AGENT_PROPS`` for a list of\\\\nall the Agent properties pyLODE can handle.\\\\n\\\\nInstallation\\\\n============\\\\n\\\\npyLODE is `on PyPI <https://pypi.org/project/pyLODE/>`_, so you can install\\\\nit using `pip <https://pypi.org/project/pip/>`_ as normal:\\\\n\\\\n::\\\\n\\\\n    pip install pylode\\\\n\\\\n\\\\nTesting\\\\n=======\\\\n\\\\nIt\\\\'s best to disable warnings to hide pointless warnings from the RDFLib library.\\\\n\\\\n::\\\\n    ~$ python -m pytest tests --disable-warnings\\\\n\\\\n\\\\nDifferences from LODE\\\\n=====================\\\\n-  command line access\\\\n\\\\n   -  you can use this on your own desktop so you don\\\\'t need me to\\\\n      maintain a live service for use\\\\n\\\\n-  use of modern simple HTML\\\\n\\\\n   - no JavaScript: pyLODE generates static HTML pages\\\\n\\\\n-  catering for a wider range of ontology options such as:\\\\n\\\\n   -  schema.org ``domainIncludes`` & ``rangeIncludes`` for properties\\\\n\\\\n-  better Agent representation\\\\n\\\\n   - see the `Notes on Agents`_ section above\\\\n\\\\n-  smarter CURIES\\\\n\\\\n   -  pyLODE caches and looks up well-known prefixes to make more/better\\\\n      CURIES\\\\n   -  it tries to be smart with CURIE presentation by CURIE-ising all\\\\n      URIs it finds, rather than printing them\\\\n\\\\n-  reference ontologies property labels\\\\n\\\\n   - pyLODE caches ~ 10 well-known ontologies (RDFS, SKOS etc), properties from which people often use for their ontology documentation. Where these properties are used, the background ontology\\\\'s labels are use\\\\n\\\\n-  **active development**\\\\n\\\\n   -  pyLODE has been under active development since mid-2019 and is\\\\n      still very much actively developed - it\\\\'s not just staying still\\\\n   -  it will be improved in foreseeable to cater for more and more things\\\\n   -  recent ontology documentation initiatives such as the `MOD\\\\n      Ontology <https://github.com/sifrproject/MOD-Ontology>`__ will be\\\\n      handled, if requested\\\\n\\\\n\\\\nReleases\\\\n========\\\\npyLODE is under continual and constant development. The current developers have a roadmap for enhancements in mind,\\\\nwhich is given here, however, since this is an open source project, new developers may join the pyLODE dev community\\\\nand change/add development priorities.\\\\n\\\\nCurrent Release\\\\n---------------\\\\n\\\\nThe current release, as of May, 2022, is **3.0.4**.\\\\n\\\\nRelease Schedule\\\\n----------------\\\\n\\\\n.. csv-table:: **pyLODE Release Schedule**\\\\n   :header: \\\"Version\\\", \\\"Date\\\", \\\"Description\\\"\\\\n   :widths: 15, 10, 30\\\\n\\\\n   **3.0.4**, **24 May 2022**, \\\"Use of Poetry\\\"\\\\n   **3.0.2**, **24 May 2022**, \\\"Support for preformatted skos:example literals\\\"\\\\n   3.0.1, 6 Jan 2022, \\\"Direct HTML generation using dominate; easier to maintain and extend\\\"\\\\n   2.13.2, 21 December 2021, \\\"Updated RDFlib to 6.1.1, improved test to properly use pytest\\\"\\\\n   2.10.0, 24 May 2021, \\\"Update Windows EXE build process, simplified versioning\\\"\\\\n   2.9.1, 28 Apr 2021, \\\"Support for ASCIIDOC format (OntDoc profile only)\\\"\\\\n   2.8.11, 28 Apr 2021, \\\"Further changes for PyPI only\\\"\\\\n   2.8.10, 27 Apr 2021, \\\"Further changes for PyPI only\\\"\\\\n   2.8.9, 27 Apr 2021, \\\"PyPI enhancements only\\\"\\\\n   2.8.8, 27 Apr 2021, \\\"Several small bugs fixed, auto-generation of version no. from Git tag\\\"\\\\n   2.8.6, 23 Feb 2021, \\\"Fixing char encoding issues, updated examples, new test files style - per issue\\\"\\\\n   2.8.5, 5 Jan 2021, \\\"Small enhancements to the Falcon server deployment option\\\"\\\\n   2.8.3, 3 July 2020, \\\"Packaging bugfixes only\\\"\\\\n   2.7, 1 July 2020, \\\"Much refactoring for new profile creation ease\\\"\\\\n   2.6, June 2020, \\\"Supports PROF profiles as well as taxonomies & ontologies\\\"\\\\n   2.4, 27 May 2020, \\\"Small improvements over 2.0\\\"\\\\n   2.0, 18 Apr 2020, \\\"Includes multiple profiles - OWP & vocpub\\\"\\\\n   1.0, 15 Dec 2019, \\\"Initial working release\\\"\\\\n\\\\n\\\\nLicense\\\\n=======\\\\nThis code is licensed using the BSD 3-Clause licence. See the `LICENSE\\\\nfile <LICENSE>`_ for the deed. Note *Citation* below though for\\\\nattribution.\\\\n\\\\n\\\\nCitation\\\\n========\\\\nIf you use pyLODE, please leave the pyLODE logo with a hyperlink back\\\\nhere in the top left of published HTML pages.\\\\n\\\\n\\\\nCollaboration\\\\n=============\\\\nThe maintainers welcome any collaboration.\\\\n\\\\nIf you have suggestions, please email the contacts below or leave Issues\\\\nin this repository\\\\'s `Issue tracker <https://github.com/rdflib/pyLODE/issues>`_.\\\\n\\\\nBut the very best thing you could do is create a Pull Request for us to\\\\naction!\\\\n\\\\n\\\\nContacts\\\\n========\\\\n| *Author*:\\\\n| **Nicholas Car**\\\\n| *Data Architect*\\\\n| `Kurrawong AI <https://kurrawong.net>`_\\\\n| nick@kurrawong.net\\\\n', path='pyLODE-out/pyLODE/README.rst')\"}];\n",
       "    var edges = [];\n",
       "\n",
       "    var container = document.getElementById(\"17181b25-bc37-4e5d-ab8e-a0028b894514\");\n",
       "\n",
       "    var data = {\n",
       "        nodes: nodes,\n",
       "        edges: edges\n",
       "    };\n",
       "\n",
       "    var options = {\n",
       "    nodes: {\n",
       "        shape: 'dot',\n",
       "        size: 25,\n",
       "        font: {\n",
       "            size: 14\n",
       "        }\n",
       "    },\n",
       "    edges: {\n",
       "        font: {\n",
       "            size: 14,\n",
       "            align: 'middle'\n",
       "        },\n",
       "        color: 'gray',\n",
       "        arrows: {\n",
       "            to: {\n",
       "                enabled: true,\n",
       "                scaleFactor: 0.5\n",
       "            }\n",
       "        },\n",
       "        smooth: {\n",
       "            enabled: false\n",
       "        }\n",
       "    },\n",
       "    physics: {\n",
       "        enabled: true\n",
       "        }\n",
       "    };\n",
       "\n",
       "    var network = new vis.Network(container, data, options);\n",
       "\n",
       "</script>\n"
      ],
      "text/plain": [
       "<IPython.core.display.HTML object>"
      ]
     },
     "execution_count": 11,
     "metadata": {},
     "output_type": "execute_result"
    }
   ],
   "source": [
    "cursor = repograph.graph.run(\"MATCH (n:README) RETURN n\")\n",
    "neo4jupyter.draw_subgraph(cursor.to_subgraph(), {\"README\": \"path\"})"
   ]
  },
  {
   "cell_type": "markdown",
   "id": "155cddba",
   "metadata": {},
   "source": [
    "## Select the metadata of the repository"
   ]
  },
  {
   "cell_type": "code",
   "execution_count": 12,
   "id": "177a5896",
   "metadata": {
    "scrolled": true
   },
   "outputs": [
    {
     "data": {
      "text/html": [
       "<div id=\"07c94136-acba-442a-9292-35950ff43aae\" style=\"height: 400px;\"></div>\n",
       "\n",
       "<script type=\"text/javascript\">\n",
       "\n",
       "    var nodes = [{\"id\": 5899493184, \"label\": \"pyLODE\", \"group\": \"Repository\", \"title\": \"Node('Repository', allow_forking=True, archive_url='https://api.github.com/repos/RDFLib/pyLODE/{archive_format}{/ref}', archived=False, assignees_url='https://api.github.com/repos/RDFLib/pyLODE/assignees{/user}', blobs_url='https://api.github.com/repos/RDFLib/pyLODE/git/blobs{/sha}', branches_url='https://api.github.com/repos/RDFLib/pyLODE/branches{/branch}', clone_url='https://github.com/RDFLib/pyLODE.git', collaborators_url='https://api.github.com/repos/RDFLib/pyLODE/collaborators{/collaborator}', comments_url='https://api.github.com/repos/RDFLib/pyLODE/comments{/number}', commits_url='https://api.github.com/repos/RDFLib/pyLODE/commits{/sha}', compare_url='https://api.github.com/repos/RDFLib/pyLODE/compare/{base}...{head}', contents_url='https://api.github.com/repos/RDFLib/pyLODE/contents/{+path}', contributors_url='https://api.github.com/repos/RDFLib/pyLODE/contributors', created_at='2019-05-10T12:00:28Z', default_branch='master', deployments_url='https://api.github.com/repos/RDFLib/pyLODE/deployments', description='An OWL ontology documentation tool using Python and templating, based on LODE', disabled=False, downloads_url='https://api.github.com/repos/RDFLib/pyLODE/downloads', events_url='https://api.github.com/repos/RDFLib/pyLODE/events', fork=False, forks=54, forks_count=54, forks_url='https://api.github.com/repos/RDFLib/pyLODE/forks', full_name='RDFLib/pyLODE', git_commits_url='https://api.github.com/repos/RDFLib/pyLODE/git/commits{/sha}', git_refs_url='https://api.github.com/repos/RDFLib/pyLODE/git/refs{/sha}', git_tags_url='https://api.github.com/repos/RDFLib/pyLODE/git/tags{/sha}', git_url='git://github.com/RDFLib/pyLODE.git', has_discussions=False, has_downloads=True, has_issues=True, has_pages=True, has_projects=True, has_wiki=True, hooks_url='https://api.github.com/repos/RDFLib/pyLODE/hooks', html_url='https://github.com/RDFLib/pyLODE', id=185980810, is_root_package=False, is_template=False, issue_comment_url='https://api.github.com/repos/RDFLib/pyLODE/issues/comments{/number}', issue_events_url='https://api.github.com/repos/RDFLib/pyLODE/issues/events{/number}', issues_url='https://api.github.com/repos/RDFLib/pyLODE/issues{/number}', keys_url='https://api.github.com/repos/RDFLib/pyLODE/keys{/key_id}', labels_url='https://api.github.com/repos/RDFLib/pyLODE/labels{/name}', language='Python', languages_url='https://api.github.com/repos/RDFLib/pyLODE/languages', merges_url='https://api.github.com/repos/RDFLib/pyLODE/merges', milestones_url='https://api.github.com/repos/RDFLib/pyLODE/milestones{/number}', name='pyLODE', network_count=54, node_id='MDEwOlJlcG9zaXRvcnkxODU5ODA4MTA=', notifications_url='https://api.github.com/repos/RDFLib/pyLODE/notifications{?since,all,participating}', open_issues=67, open_issues_count=67, private=False, pulls_url='https://api.github.com/repos/RDFLib/pyLODE/pulls{/number}', pushed_at='2023-01-02T18:39:28Z', releases_url='https://api.github.com/repos/RDFLib/pyLODE/releases{/id}', size=92272, ssh_url='git@github.com:RDFLib/pyLODE.git', stargazers_count=119, stargazers_url='https://api.github.com/repos/RDFLib/pyLODE/stargazers', statuses_url='https://api.github.com/repos/RDFLib/pyLODE/statuses/{sha}', subscribers_count=18, subscribers_url='https://api.github.com/repos/RDFLib/pyLODE/subscribers', subscription_url='https://api.github.com/repos/RDFLib/pyLODE/subscription', svn_url='https://github.com/RDFLib/pyLODE', tags_url='https://api.github.com/repos/RDFLib/pyLODE/tags', teams_url='https://api.github.com/repos/RDFLib/pyLODE/teams', trees_url='https://api.github.com/repos/RDFLib/pyLODE/git/trees{/sha}', type='package', updated_at='2023-01-14T08:59:04Z', url='https://api.github.com/repos/RDFLib/pyLODE', visibility='public', watchers=119, watchers_count=119, web_commit_signoff_required=False)\"}];\n",
       "    var edges = [];\n",
       "\n",
       "    var container = document.getElementById(\"07c94136-acba-442a-9292-35950ff43aae\");\n",
       "\n",
       "    var data = {\n",
       "        nodes: nodes,\n",
       "        edges: edges\n",
       "    };\n",
       "\n",
       "    var options = {\n",
       "    nodes: {\n",
       "        shape: 'dot',\n",
       "        size: 25,\n",
       "        font: {\n",
       "            size: 14\n",
       "        }\n",
       "    },\n",
       "    edges: {\n",
       "        font: {\n",
       "            size: 14,\n",
       "            align: 'middle'\n",
       "        },\n",
       "        color: 'gray',\n",
       "        arrows: {\n",
       "            to: {\n",
       "                enabled: true,\n",
       "                scaleFactor: 0.5\n",
       "            }\n",
       "        },\n",
       "        smooth: {\n",
       "            enabled: false\n",
       "        }\n",
       "    },\n",
       "    physics: {\n",
       "        enabled: true\n",
       "        }\n",
       "    };\n",
       "\n",
       "    var network = new vis.Network(container, data, options);\n",
       "\n",
       "</script>\n"
      ],
      "text/plain": [
       "<IPython.core.display.HTML object>"
      ]
     },
     "execution_count": 12,
     "metadata": {},
     "output_type": "execute_result"
    }
   ],
   "source": [
    "cursor = repograph.graph.run(\"MATCH (n:Repository) RETURN n\")\n",
    "neo4jupyter.draw_subgraph(cursor.to_subgraph(), {\"Repository\": \"name\"})"
   ]
  },
  {
   "cell_type": "code",
   "execution_count": 13,
   "id": "6d452a37",
   "metadata": {},
   "outputs": [
    {
     "data": {
      "text/plain": [
       "Node('Repository', allow_forking=True, archive_url='https://api.github.com/repos/RDFLib/pyLODE/{archive_format}{/ref}', archived=False, assignees_url='https://api.github.com/repos/RDFLib/pyLODE/assignees{/user}', blobs_url='https://api.github.com/repos/RDFLib/pyLODE/git/blobs{/sha}', branches_url='https://api.github.com/repos/RDFLib/pyLODE/branches{/branch}', clone_url='https://github.com/RDFLib/pyLODE.git', collaborators_url='https://api.github.com/repos/RDFLib/pyLODE/collaborators{/collaborator}', comments_url='https://api.github.com/repos/RDFLib/pyLODE/comments{/number}', commits_url='https://api.github.com/repos/RDFLib/pyLODE/commits{/sha}', compare_url='https://api.github.com/repos/RDFLib/pyLODE/compare/{base}...{head}', contents_url='https://api.github.com/repos/RDFLib/pyLODE/contents/{+path}', contributors_url='https://api.github.com/repos/RDFLib/pyLODE/contributors', created_at='2019-05-10T12:00:28Z', default_branch='master', deployments_url='https://api.github.com/repos/RDFLib/pyLODE/deployments', description='An OWL ontology documentation tool using Python and templating, based on LODE', disabled=False, downloads_url='https://api.github.com/repos/RDFLib/pyLODE/downloads', events_url='https://api.github.com/repos/RDFLib/pyLODE/events', fork=False, forks=54, forks_count=54, forks_url='https://api.github.com/repos/RDFLib/pyLODE/forks', full_name='RDFLib/pyLODE', git_commits_url='https://api.github.com/repos/RDFLib/pyLODE/git/commits{/sha}', git_refs_url='https://api.github.com/repos/RDFLib/pyLODE/git/refs{/sha}', git_tags_url='https://api.github.com/repos/RDFLib/pyLODE/git/tags{/sha}', git_url='git://github.com/RDFLib/pyLODE.git', has_discussions=False, has_downloads=True, has_issues=True, has_pages=True, has_projects=True, has_wiki=True, hooks_url='https://api.github.com/repos/RDFLib/pyLODE/hooks', html_url='https://github.com/RDFLib/pyLODE', id=185980810, is_root_package=False, is_template=False, issue_comment_url='https://api.github.com/repos/RDFLib/pyLODE/issues/comments{/number}', issue_events_url='https://api.github.com/repos/RDFLib/pyLODE/issues/events{/number}', issues_url='https://api.github.com/repos/RDFLib/pyLODE/issues{/number}', keys_url='https://api.github.com/repos/RDFLib/pyLODE/keys{/key_id}', labels_url='https://api.github.com/repos/RDFLib/pyLODE/labels{/name}', language='Python', languages_url='https://api.github.com/repos/RDFLib/pyLODE/languages', merges_url='https://api.github.com/repos/RDFLib/pyLODE/merges', milestones_url='https://api.github.com/repos/RDFLib/pyLODE/milestones{/number}', name='pyLODE', network_count=54, node_id='MDEwOlJlcG9zaXRvcnkxODU5ODA4MTA=', notifications_url='https://api.github.com/repos/RDFLib/pyLODE/notifications{?since,all,participating}', open_issues=67, open_issues_count=67, private=False, pulls_url='https://api.github.com/repos/RDFLib/pyLODE/pulls{/number}', pushed_at='2023-01-02T18:39:28Z', releases_url='https://api.github.com/repos/RDFLib/pyLODE/releases{/id}', size=92272, ssh_url='git@github.com:RDFLib/pyLODE.git', stargazers_count=119, stargazers_url='https://api.github.com/repos/RDFLib/pyLODE/stargazers', statuses_url='https://api.github.com/repos/RDFLib/pyLODE/statuses/{sha}', subscribers_count=18, subscribers_url='https://api.github.com/repos/RDFLib/pyLODE/subscribers', subscription_url='https://api.github.com/repos/RDFLib/pyLODE/subscription', svn_url='https://github.com/RDFLib/pyLODE', tags_url='https://api.github.com/repos/RDFLib/pyLODE/tags', teams_url='https://api.github.com/repos/RDFLib/pyLODE/teams', trees_url='https://api.github.com/repos/RDFLib/pyLODE/git/trees{/sha}', type='package', updated_at='2023-01-14T08:59:04Z', url='https://api.github.com/repos/RDFLib/pyLODE', visibility='public', watchers=119, watchers_count=119, web_commit_signoff_required=False)"
      ]
     },
     "execution_count": 13,
     "metadata": {},
     "output_type": "execute_result"
    }
   ],
   "source": [
    "cursor[0]"
   ]
  },
  {
   "cell_type": "markdown",
   "id": "e906373a",
   "metadata": {},
   "source": [
    "## Select the license of the repository"
   ]
  },
  {
   "cell_type": "code",
   "execution_count": 28,
   "id": "705da8e8",
   "metadata": {
    "scrolled": false
   },
   "outputs": [
    {
     "data": {
      "text/html": [
       "<div id=\"285967c5-8ecf-4f44-8244-c1c12a53cfc7\" style=\"height: 400px;\"></div>\n",
       "\n",
       "<script type=\"text/javascript\">\n",
       "\n",
       "    var nodes = [{\"id\": 5899615504, \"label\": \"BSD-4-Clause\", \"group\": \"License\", \"title\": \"Node('License', confidence=0.919, license_type='BSD-4-Clause', text='BSD 3-Clause License\\\\n\\\\nCopyright (c) 2002-2021, RDFLib Team\\\\nAll rights reserved.\\\\n\\\\nRedistribution and use in source and binary forms, with or without\\\\nmodification, are permitted provided that the following conditions are met:\\\\n\\\\n1. Redistributions of source code must retain the above copyright notice, this\\\\n   list of conditions and the following disclaimer.\\\\n\\\\n2. Redistributions in binary form must reproduce the above copyright notice,\\\\n   this list of conditions and the following disclaimer in the documentation\\\\n   and/or other materials provided with the distribution.\\\\n\\\\n3. Neither the name of the copyright holder nor the names of its\\\\n   contributors may be used to endorse or promote products derived from\\\\n   this software without specific prior written permission.\\\\n\\\\nTHIS SOFTWARE IS PROVIDED BY THE COPYRIGHT HOLDERS AND CONTRIBUTORS \\\"AS IS\\\"\\\\nAND ANY EXPRESS OR IMPLIED WARRANTIES, INCLUDING, BUT NOT LIMITED TO, THE\\\\nIMPLIED WARRANTIES OF MERCHANTABILITY AND FITNESS FOR A PARTICULAR PURPOSE ARE\\\\nDISCLAIMED. IN NO EVENT SHALL THE COPYRIGHT HOLDER OR CONTRIBUTORS BE LIABLE\\\\nFOR ANY DIRECT, INDIRECT, INCIDENTAL, SPECIAL, EXEMPLARY, OR CONSEQUENTIAL\\\\nDAMAGES (INCLUDING, BUT NOT LIMITED TO, PROCUREMENT OF SUBSTITUTE GOODS OR\\\\nSERVICES; LOSS OF USE, DATA, OR PROFITS; OR BUSINESS INTERRUPTION) HOWEVER\\\\nCAUSED AND ON ANY THEORY OF LIABILITY, WHETHER IN CONTRACT, STRICT LIABILITY,\\\\nOR TORT (INCLUDING NEGLIGENCE OR OTHERWISE) ARISING IN ANY WAY OUT OF THE USE\\\\nOF THIS SOFTWARE, EVEN IF ADVISED OF THE POSSIBILITY OF SUCH DAMAGE.\\\\n')\"}, {\"id\": 5900087920, \"label\": \"BSD-3-Clause-Clear\", \"group\": \"License\", \"title\": \"Node('License', confidence=0.92, license_type='BSD-3-Clause-Clear', text='BSD 3-Clause License\\\\n\\\\nCopyright (c) 2002-2021, RDFLib Team\\\\nAll rights reserved.\\\\n\\\\nRedistribution and use in source and binary forms, with or without\\\\nmodification, are permitted provided that the following conditions are met:\\\\n\\\\n1. Redistributions of source code must retain the above copyright notice, this\\\\n   list of conditions and the following disclaimer.\\\\n\\\\n2. Redistributions in binary form must reproduce the above copyright notice,\\\\n   this list of conditions and the following disclaimer in the documentation\\\\n   and/or other materials provided with the distribution.\\\\n\\\\n3. Neither the name of the copyright holder nor the names of its\\\\n   contributors may be used to endorse or promote products derived from\\\\n   this software without specific prior written permission.\\\\n\\\\nTHIS SOFTWARE IS PROVIDED BY THE COPYRIGHT HOLDERS AND CONTRIBUTORS \\\"AS IS\\\"\\\\nAND ANY EXPRESS OR IMPLIED WARRANTIES, INCLUDING, BUT NOT LIMITED TO, THE\\\\nIMPLIED WARRANTIES OF MERCHANTABILITY AND FITNESS FOR A PARTICULAR PURPOSE ARE\\\\nDISCLAIMED. IN NO EVENT SHALL THE COPYRIGHT HOLDER OR CONTRIBUTORS BE LIABLE\\\\nFOR ANY DIRECT, INDIRECT, INCIDENTAL, SPECIAL, EXEMPLARY, OR CONSEQUENTIAL\\\\nDAMAGES (INCLUDING, BUT NOT LIMITED TO, PROCUREMENT OF SUBSTITUTE GOODS OR\\\\nSERVICES; LOSS OF USE, DATA, OR PROFITS; OR BUSINESS INTERRUPTION) HOWEVER\\\\nCAUSED AND ON ANY THEORY OF LIABILITY, WHETHER IN CONTRACT, STRICT LIABILITY,\\\\nOR TORT (INCLUDING NEGLIGENCE OR OTHERWISE) ARISING IN ANY WAY OUT OF THE USE\\\\nOF THIS SOFTWARE, EVEN IF ADVISED OF THE POSSIBILITY OF SUCH DAMAGE.\\\\n')\"}, {\"id\": 6076517008, \"label\": \"BSD-2-Clause\", \"group\": \"License\", \"title\": \"Node('License', confidence=0.932, license_type='BSD-2-Clause', text='BSD 3-Clause License\\\\n\\\\nCopyright (c) 2002-2021, RDFLib Team\\\\nAll rights reserved.\\\\n\\\\nRedistribution and use in source and binary forms, with or without\\\\nmodification, are permitted provided that the following conditions are met:\\\\n\\\\n1. Redistributions of source code must retain the above copyright notice, this\\\\n   list of conditions and the following disclaimer.\\\\n\\\\n2. Redistributions in binary form must reproduce the above copyright notice,\\\\n   this list of conditions and the following disclaimer in the documentation\\\\n   and/or other materials provided with the distribution.\\\\n\\\\n3. Neither the name of the copyright holder nor the names of its\\\\n   contributors may be used to endorse or promote products derived from\\\\n   this software without specific prior written permission.\\\\n\\\\nTHIS SOFTWARE IS PROVIDED BY THE COPYRIGHT HOLDERS AND CONTRIBUTORS \\\"AS IS\\\"\\\\nAND ANY EXPRESS OR IMPLIED WARRANTIES, INCLUDING, BUT NOT LIMITED TO, THE\\\\nIMPLIED WARRANTIES OF MERCHANTABILITY AND FITNESS FOR A PARTICULAR PURPOSE ARE\\\\nDISCLAIMED. IN NO EVENT SHALL THE COPYRIGHT HOLDER OR CONTRIBUTORS BE LIABLE\\\\nFOR ANY DIRECT, INDIRECT, INCIDENTAL, SPECIAL, EXEMPLARY, OR CONSEQUENTIAL\\\\nDAMAGES (INCLUDING, BUT NOT LIMITED TO, PROCUREMENT OF SUBSTITUTE GOODS OR\\\\nSERVICES; LOSS OF USE, DATA, OR PROFITS; OR BUSINESS INTERRUPTION) HOWEVER\\\\nCAUSED AND ON ANY THEORY OF LIABILITY, WHETHER IN CONTRACT, STRICT LIABILITY,\\\\nOR TORT (INCLUDING NEGLIGENCE OR OTHERWISE) ARISING IN ANY WAY OUT OF THE USE\\\\nOF THIS SOFTWARE, EVEN IF ADVISED OF THE POSSIBILITY OF SUCH DAMAGE.\\\\n')\"}, {\"id\": 5896370912, \"label\": \"BSD-3-Clause\", \"group\": \"License\", \"title\": \"Node('License', confidence=0.968, license_type='BSD-3-Clause', text='BSD 3-Clause License\\\\n\\\\nCopyright (c) 2002-2021, RDFLib Team\\\\nAll rights reserved.\\\\n\\\\nRedistribution and use in source and binary forms, with or without\\\\nmodification, are permitted provided that the following conditions are met:\\\\n\\\\n1. Redistributions of source code must retain the above copyright notice, this\\\\n   list of conditions and the following disclaimer.\\\\n\\\\n2. Redistributions in binary form must reproduce the above copyright notice,\\\\n   this list of conditions and the following disclaimer in the documentation\\\\n   and/or other materials provided with the distribution.\\\\n\\\\n3. Neither the name of the copyright holder nor the names of its\\\\n   contributors may be used to endorse or promote products derived from\\\\n   this software without specific prior written permission.\\\\n\\\\nTHIS SOFTWARE IS PROVIDED BY THE COPYRIGHT HOLDERS AND CONTRIBUTORS \\\"AS IS\\\"\\\\nAND ANY EXPRESS OR IMPLIED WARRANTIES, INCLUDING, BUT NOT LIMITED TO, THE\\\\nIMPLIED WARRANTIES OF MERCHANTABILITY AND FITNESS FOR A PARTICULAR PURPOSE ARE\\\\nDISCLAIMED. IN NO EVENT SHALL THE COPYRIGHT HOLDER OR CONTRIBUTORS BE LIABLE\\\\nFOR ANY DIRECT, INDIRECT, INCIDENTAL, SPECIAL, EXEMPLARY, OR CONSEQUENTIAL\\\\nDAMAGES (INCLUDING, BUT NOT LIMITED TO, PROCUREMENT OF SUBSTITUTE GOODS OR\\\\nSERVICES; LOSS OF USE, DATA, OR PROFITS; OR BUSINESS INTERRUPTION) HOWEVER\\\\nCAUSED AND ON ANY THEORY OF LIABILITY, WHETHER IN CONTRACT, STRICT LIABILITY,\\\\nOR TORT (INCLUDING NEGLIGENCE OR OTHERWISE) ARISING IN ANY WAY OUT OF THE USE\\\\nOF THIS SOFTWARE, EVEN IF ADVISED OF THE POSSIBILITY OF SUCH DAMAGE.\\\\n')\"}];\n",
       "    var edges = [];\n",
       "\n",
       "    var container = document.getElementById(\"285967c5-8ecf-4f44-8244-c1c12a53cfc7\");\n",
       "\n",
       "    var data = {\n",
       "        nodes: nodes,\n",
       "        edges: edges\n",
       "    };\n",
       "\n",
       "    var options = {\n",
       "    nodes: {\n",
       "        shape: 'dot',\n",
       "        size: 25,\n",
       "        font: {\n",
       "            size: 14\n",
       "        }\n",
       "    },\n",
       "    edges: {\n",
       "        font: {\n",
       "            size: 14,\n",
       "            align: 'middle'\n",
       "        },\n",
       "        color: 'gray',\n",
       "        arrows: {\n",
       "            to: {\n",
       "                enabled: true,\n",
       "                scaleFactor: 0.5\n",
       "            }\n",
       "        },\n",
       "        smooth: {\n",
       "            enabled: false\n",
       "        }\n",
       "    },\n",
       "    physics: {\n",
       "        enabled: true\n",
       "        }\n",
       "    };\n",
       "\n",
       "    var network = new vis.Network(container, data, options);\n",
       "\n",
       "</script>\n"
      ],
      "text/plain": [
       "<IPython.core.display.HTML object>"
      ]
     },
     "execution_count": 28,
     "metadata": {},
     "output_type": "execute_result"
    }
   ],
   "source": [
    "cursor = repograph.graph.run(\"MATCH (n:License) RETURN n\")\n",
    "neo4jupyter.draw_subgraph(cursor.to_subgraph(), {\"License\": \"license_type\"})"
   ]
  },
  {
   "cell_type": "markdown",
   "id": "a9f695ab",
   "metadata": {},
   "source": [
    "## Select the docstring of the repository"
   ]
  },
  {
   "cell_type": "code",
   "execution_count": 35,
   "id": "9069afbe",
   "metadata": {},
   "outputs": [
    {
     "data": {
      "text/html": [
       "<div id=\"388ed1d6-d6aa-4176-97be-7c4c2a9e351a\" style=\"height: 400px;\"></div>\n",
       "\n",
       "<script type=\"text/javascript\">\n",
       "\n",
       "    var nodes = [{\"id\": 5783099488, \"label\": \"Gets titles and descriptions for all properties\", \"group\": \"Docstring\", \"title\": \"Node('Docstring', long_description='in the background ontologies', short_description='Gets titles and descriptions for all properties', summarization='Gets titles and descriptions for all properties\\\\n    in the background ontologies')\"}, {\"id\": 5783047840, \"label\": \"back_onts_label_props\", \"group\": \"Function\", \"title\": \"Node('Function', max_line_number=243, min_line_number=211, name='back_onts_label_props', source_code='def back_onts_label_props(back_onts: Graph):\\\\n    \\\"\\\"\\\"Gets titles and descriptions for all properties\\\\n    in the background ontologies\\\"\\\"\\\"\\\\n    back_onts_titles = load_background_onts_titles(back_onts)\\\\n\\\\n    def _get_prop_label(prop_iri: URIRef, back_onts: Graph) -> dict:\\\\n        title_ = None\\\\n        description = None\\\\n        ont_title = None\\\\n        for (p_, o) in back_onts.predicate_objects(prop_iri):\\\\n            if p_ == DCTERMS.title:\\\\n                title_ = o\\\\n            elif p_ == DCTERMS.description:\\\\n                description = o\\\\n        for (k, v) in back_onts_titles.items():\\\\n            if prop_iri.startswith(k):\\\\n                ont_title = v\\\\n        if title_ is None:\\\\n            title_ = make_title_from_iri(prop_iri)\\\\n        return {\\\\'title\\\\': title_, \\\\'description\\\\': description, \\\\'ont_title\\\\': ont_title}\\\\n    pl = {}\\\\n    for prop in PROPS:\\\\n        pl[prop] = _get_prop_label(prop, back_onts)\\\\n    return pl', type='Function')\"}, {\"id\": 5783105024, \"label\": \"Makes a human-readable title for an RDF resource from its IRI\", \"group\": \"Docstring\", \"title\": \"Node('Docstring', short_description='Makes a human-readable title for an RDF resource from its IRI', summarization='Makes a human - readable title for an RDF resource from its IRI')\"}, {\"id\": 5783100688, \"label\": \"make_title_from_iri\", \"group\": \"Function\", \"title\": \"Node('Function', max_line_number=144, min_line_number=111, name='make_title_from_iri', source_code='def make_title_from_iri(iri: URIRef):\\\\n    \\\"\\\"\\\"Makes a human-readable title for an RDF resource from its IRI\\\"\\\"\\\"\\\\n    if isinstance(iri, URIRef):\\\\n        iri = str(iri)\\\\n    segments = iri.split(\\\\'/\\\\')\\\\n    if len(segments[-1]) < 1:\\\\n        return None\\\\n    if len(segments) < 4:\\\\n        return None\\\\n    if segments[-1].endswith(\\\\'#\\\\'):\\\\n        return None\\\\n    id_part = segments[-1].split(\\\\'#\\\\')[-1] if segments[-1].split(\\\\'#\\\\')[-1] != \\\\'\\\\' else segments[-1].split(\\\\'#\\\\')[-2]\\\\n    words = re.split(\\\\'(?<=[a-z])(?=[A-Z])|(?<=[A-Z])(?=[A-Z][a-z])\\\\', id_part)\\\\n    if words[0][0].isupper():\\\\n        return \\\\' \\\\'.join(words).title()\\\\n    else:\\\\n        return \\\\' \\\\'.join(words).lower()', type='Function')\"}, {\"id\": 5783102144, \"label\": \"Makes an HTML fragment ID for an RDF resource,\", \"group\": \"Docstring\", \"title\": \"Node('Docstring', long_description='based on title (preferred) or IRI', short_description='Makes an HTML fragment ID for an RDF resource,', summarization='Makes an HTML fragment ID for an RDF resource based on a title or IRI.')\"}, {\"id\": 5783098448, \"label\": \"generate_fid\", \"group\": \"Function\", \"title\": \"Node('Function', max_line_number=208, min_line_number=146, name='generate_fid', source_code='def generate_fid(title_: Union[Literal, None], iri: URIRef, fids: dict):\\\\n    \\\"\\\"\\\"Makes an HTML fragment ID for an RDF resource,\\\\n    based on title (preferred) or IRI\\\"\\\"\\\"\\\\n    s_iri = str(iri) if iri is not None else None\\\\n    s_title_ = str(title_) if title_ is not None else None\\\\n    existing_fid = fids.get(s_iri)\\\\n    if existing_fid is not None:\\\\n        return existing_fid\\\\n\\\\n    def _remove_non_ascii_chars(s_):\\\\n        return \\\\'\\\\'.join((j for j in s_ if ord(j) < 128)).replace(\\\\'&\\\\', \\\\'\\\\')\\\\n    if s_title_ is not None:\\\\n        fid = _remove_non_ascii_chars(s_title_.replace(\\\\' \\\\', \\\\'\\\\'))\\\\n        if fid not in fids.values():\\\\n            fids[s_iri] = fid\\\\n            return fid\\\\n    segments = s_iri.split(\\\\'/\\\\')\\\\n    if len(segments[-1]) < 1:\\\\n        return None\\\\n    if len(segments) < 4:\\\\n        return None\\\\n    if segments[-1].endswith(\\\\'#\\\\'):\\\\n        return None\\\\n    fid = segments[-1].split(\\\\'#\\\\')[-1] if segments[-1].split(\\\\'#\\\\')[-1] != \\\\'\\\\' else segments[-1].split(\\\\'#\\\\')[-2]\\\\n    if fid not in fids.values():\\\\n        fids[s_iri] = fid\\\\n        return fid\\\\n    else:\\\\n        fids[s_iri] = fid + \\\\'1\\\\'\\\\n        return fid + \\\\'1\\\\'', type='Function')\"}, {\"id\": 5783044800, \"label\": \"Check all properties listed in the combined property lists in\", \"group\": \"Docstring\", \"title\": \"Node('Docstring', long_description='properties.py to see if their titles and descriptions are present in the\\\\nbackground ontologies in the folder rdf/. Run after performing labelling\\\\ninferencing.', short_description='Check all properties listed in the combined property lists in', summarization='Check all properties listed in the combined property lists in the\\\\n    properties. py to see if their titles and descriptions are present in the\\\\n    background ontologies in the folder rdf. Run after performing labelling\\\\n    inferencing.')\"}, {\"id\": 5782413936, \"label\": \"check_all_props_are_known\", \"group\": \"Function\", \"title\": \"Node('Function', max_line_number=69, min_line_number=58, name='check_all_props_are_known', source_code='def check_all_props_are_known():\\\\n    \\\"\\\"\\\"Check all properties listed in the combined property lists in\\\\n    properties.py to see if their titles and descriptions are present in the\\\\n    background ontologies in the folder rdf/. Run after performing labelling\\\\n    inferencing.\\\"\\\"\\\"\\\\n    bg = load_background_onts()\\\\n    for prop in PROPS:\\\\n        if (prop, RDF.type, None) not in bg:\\\\n            print(f\\\\'Unknown property: {prop}\\\\')\\\\n            print(f\\\\'Estimating title as \\\"{make_title_from_iri(prop)}\\\"\\\\')\\\\n            print()', type='Function')\"}, {\"id\": 5783139008, \"label\": \"Gets the default Namespace for the given graph (ontology)\", \"group\": \"Docstring\", \"title\": \"Node('Docstring', short_description='Gets the default Namespace for the given graph (ontology)', summarization='Gets the default namespace for the given ontology.')\"}, {\"id\": 5783139408, \"label\": \"get_ns\", \"group\": \"Function\", \"title\": \"Node('Function', max_line_number=107, min_line_number=71, name='get_ns', source_code='def get_ns(ont: Graph) -> Tuple[str, str]:\\\\n    \\\"\\\"\\\"Gets the default Namespace for the given graph (ontology)\\\"\\\"\\\"\\\\n    pref_iri = None\\\\n    for (s_, o) in ont.subject_objects(predicate=VANN.preferredNamespaceUri):\\\\n        pref_iri = str(o)\\\\n    pref_prefix = None\\\\n    for (s_, o) in ont.subject_objects(predicate=VANN.preferredNamespacePrefix):\\\\n        pref_prefix = str(o)\\\\n    if pref_prefix is None:\\\\n        pref_prefix = \\\\'\\\\'\\\\n    if pref_iri is not None:\\\\n        return (pref_prefix, pref_iri)\\\\n    else:\\\\n        default_iri = None\\\\n        for s_ in chain(ont.subjects(predicate=RDF.type, object=OWL.Ontology), ont.subjects(predicate=RDF.type, object=SKOS.ConceptScheme), ont.subjects(predicate=RDF.type, object=PROF.Profile)):\\\\n            default_iri = str(s_)\\\\n        if default_iri is not None:\\\\n            prefix = ont.compute_qname(default_iri, True)[0]\\\\n            if prefix is not None:\\\\n                return (prefix, default_iri)\\\\n        else:\\\\n            raise Exception(\\\"pyLODE can\\\\'t detect a URI for an owl:Ontology, a skos:ConceptScheme or a prof:Profile\\\")', type='Function')\"}];\n",
       "    var edges = [{\"from\": 5783048080, \"to\": 5783047200, \"label\": \"Documents\"}, {\"from\": 5783104624, \"to\": 5783104704, \"label\": \"Documents\"}, {\"from\": 5783098928, \"to\": 5783098048, \"label\": \"Documents\"}, {\"from\": 5783105184, \"to\": 5783105104, \"label\": \"Documents\"}, {\"from\": 5783101328, \"to\": 5783100128, \"label\": \"Documents\"}];\n",
       "\n",
       "    var container = document.getElementById(\"388ed1d6-d6aa-4176-97be-7c4c2a9e351a\");\n",
       "\n",
       "    var data = {\n",
       "        nodes: nodes,\n",
       "        edges: edges\n",
       "    };\n",
       "\n",
       "    var options = {\n",
       "    nodes: {\n",
       "        shape: 'dot',\n",
       "        size: 25,\n",
       "        font: {\n",
       "            size: 14\n",
       "        }\n",
       "    },\n",
       "    edges: {\n",
       "        font: {\n",
       "            size: 14,\n",
       "            align: 'middle'\n",
       "        },\n",
       "        color: 'gray',\n",
       "        arrows: {\n",
       "            to: {\n",
       "                enabled: true,\n",
       "                scaleFactor: 0.5\n",
       "            }\n",
       "        },\n",
       "        smooth: {\n",
       "            enabled: false\n",
       "        }\n",
       "    },\n",
       "    physics: {\n",
       "        enabled: true\n",
       "        }\n",
       "    };\n",
       "\n",
       "    var network = new vis.Network(container, data, options);\n",
       "\n",
       "</script>\n"
      ],
      "text/plain": [
       "<IPython.core.display.HTML object>"
      ]
     },
     "execution_count": 35,
     "metadata": {},
     "output_type": "execute_result"
    }
   ],
   "source": [
    "cursor = repograph.graph.run(\"MATCH (n:Docstring)-[r:Documents]-(f) WHERE n.short_description IS NOT NULL RETURN n, f, r LIMIT 5\")\n",
    "neo4jupyter.draw_subgraph(cursor.to_subgraph(), {\"Docstring\": \"short_description\", \"Function\": \"name\"}, physics=True)"
   ]
  },
  {
   "cell_type": "markdown",
   "id": "618178c4",
   "metadata": {},
   "source": [
    "## Select the function summarisations of the repository\n",
    "\n",
    "Which ones?"
   ]
  },
  {
   "cell_type": "markdown",
   "id": "e72997af",
   "metadata": {},
   "source": [
    "## Select the filenames of the repository"
   ]
  },
  {
   "cell_type": "markdown",
   "id": "c4047991",
   "metadata": {},
   "source": [
    "## Select the function and class names of the repository"
   ]
  },
  {
   "cell_type": "markdown",
   "id": "32e111cb",
   "metadata": {},
   "source": [
    "## Select the source code of the repository"
   ]
  },
  {
   "cell_type": "markdown",
   "id": "29565553",
   "metadata": {},
   "source": [
    "## Select the call graph of the repository"
   ]
  }
 ],
 "metadata": {
  "kernelspec": {
   "display_name": "repograph",
   "language": "python",
   "name": "repograph"
  },
  "language_info": {
   "codemirror_mode": {
    "name": "ipython",
    "version": 3
   },
   "file_extension": ".py",
   "mimetype": "text/x-python",
   "name": "python",
   "nbconvert_exporter": "python",
   "pygments_lexer": "ipython3",
   "version": "3.9.12"
  }
 },
 "nbformat": 4,
 "nbformat_minor": 5
}
