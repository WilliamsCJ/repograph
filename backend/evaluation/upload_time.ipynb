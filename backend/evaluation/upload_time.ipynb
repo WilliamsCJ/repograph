{
 "cells": [
  {
   "cell_type": "code",
   "execution_count": 22,
   "outputs": [],
   "source": [
    "from yaml import UnsafeLoader\n",
    "from repograph.container import ApplicationContainer\n",
    "import time\n",
    "import csv\n",
    "from repograph.entities.build.service import BuildService\n",
    "from repograph.entities.graph.service import GraphService\n",
    "from dependency_injector.wiring import inject, Provide"
   ],
   "metadata": {
    "collapsed": false
   }
  },
  {
   "cell_type": "code",
   "execution_count": 23,
   "outputs": [],
   "source": [
    "repositories = [\n",
    "    (\"./demo/fastapi\", \"FastAPI\"),\n",
    "    (\"./demo/pyLODE\", \"pyLODE\"),\n",
    "    (\"./demo/pygorithm\", \"pygorithm\"),\n",
    "    (\"./demo/flake8\", \"flake8\"),\n",
    "]"
   ],
   "metadata": {
    "collapsed": false
   }
  },
  {
   "cell_type": "code",
   "execution_count": 25,
   "outputs": [
    {
     "data": {
      "text/plain": "<_io.TextIOWrapper name='../test.db' mode='w' encoding='UTF-8'>"
     },
     "execution_count": 25,
     "metadata": {},
     "output_type": "execute_result"
    }
   ],
   "source": [
    "open(\"../test.db\", \"w\")"
   ],
   "metadata": {
    "collapsed": false
   }
  },
  {
   "cell_type": "code",
   "execution_count": 26,
   "outputs": [],
   "source": [
    "@inject\n",
    "def collect(\n",
    "    build: BuildService = Provide[ApplicationContainer.build.container.service],\n",
    "    graph: GraphService = Provide[ApplicationContainer.graph.container.service]\n",
    "):\n",
    "    with open('processing_time.csv', \"w+\", newline=\"\") as csvfile:\n",
    "        writer = csv.writer(csvfile, delimiter=',',quotechar='\"', quoting=csv.QUOTE_MINIMAL)\n",
    "        writer.writerow(['Repository', 'Time (s)', 'Nodes', 'Relationships'])\n",
    "        for i in range(5):\n",
    "            for path, name in repositories:\n",
    "                start = time.time()\n",
    "                build.build(\n",
    "                    [path],\n",
    "                    f\"{name}{i}\",\n",
    "                    \"\",\n",
    "                    prune=True,\n",
    "                )\n",
    "                execution_time = time.time() - start\n",
    "                summary = graph.get_summary(f\"{name}{i}\")\n",
    "                writer.writerow([name, execution_time, summary.nodes_total, summary.relationships_total])\n"
   ],
   "metadata": {
    "collapsed": false
   }
  },
  {
   "cell_type": "code",
   "execution_count": 27,
   "outputs": [],
   "source": [
    "container = ApplicationContainer()\n",
    "container.config.from_yaml(\"../evaluation_config.yaml\", loader=UnsafeLoader)\n",
    "container.wire(modules=[__name__])"
   ],
   "metadata": {
    "collapsed": false
   }
  },
  {
   "cell_type": "code",
   "execution_count": 28,
   "outputs": [
    {
     "name": "stderr",
     "output_type": "stream",
     "text": [
      "/Users/cjwilliams/GitHub/repograph/backend/repograph/entities/graph/repository.py:178: ExperimentalWarning: Driver.execute_query is experimental. It might be changed or removed any time even without prior notice.\n",
      "  self._driver.execute_query(f\"\"\"DROP DATABASE {graph_name} IF EXISTS\"\"\")\n"
     ]
    },
    {
     "name": "stdout",
     "output_type": "stream",
     "text": [
      "Creating jsDir:tmp/fastapi/tests/json_files\n",
      "Creating jsDir:tmp/fastapi/tests/test_modules_same_name_body/json_files\n",
      "Creating jsDir:tmp/fastapi/tests/test_modules_same_name_body/app/json_files\n",
      "Creating jsDir:tmp/fastapi/tests/test_tutorial/json_files\n",
      "Creating jsDir:tmp/fastapi/tests/test_tutorial/test_bigger_applications/json_files\n",
      "Creating jsDir:tmp/fastapi/tests/test_tutorial/test_async_sql_databases/json_files\n",
      "Creating jsDir:tmp/fastapi/tests/test_tutorial/test_behind_a_proxy/json_files\n",
      "Creating jsDir:tmp/fastapi/tests/test_tutorial/test_extending_openapi/json_files\n",
      "Creating jsDir:tmp/fastapi/tests/test_tutorial/test_cors/json_files\n",
      "Creating jsDir:tmp/fastapi/tests/test_tutorial/test_additional_status_codes/json_files\n",
      "Creating jsDir:tmp/fastapi/tests/test_tutorial/test_schema_extra_example/json_files\n",
      "Creating jsDir:tmp/fastapi/tests/test_tutorial/test_query_params/json_files\n",
      "Creating jsDir:tmp/fastapi/tests/test_tutorial/test_path_params/json_files\n",
      "Creating jsDir:tmp/fastapi/tests/test_tutorial/test_advanced_middleware/json_files\n",
      "Creating jsDir:tmp/fastapi/tests/test_tutorial/test_custom_response/json_files\n",
      "Creating jsDir:tmp/fastapi/tests/test_tutorial/test_templates/json_files\n",
      "Creating jsDir:tmp/fastapi/tests/test_tutorial/test_path_operation_configurations/json_files\n",
      "Creating jsDir:tmp/fastapi/tests/test_tutorial/test_extra_data_types/json_files\n",
      "Creating jsDir:tmp/fastapi/tests/test_tutorial/test_response_change_status_code/json_files\n",
      "Creating jsDir:tmp/fastapi/tests/test_tutorial/test_websockets/json_files\n",
      "Creating jsDir:tmp/fastapi/tests/test_tutorial/test_generate_clients/json_files\n",
      "Creating jsDir:tmp/fastapi/tests/test_tutorial/test_path_operation_advanced_configurations/json_files\n",
      "Creating jsDir:tmp/fastapi/tests/test_tutorial/test_request_forms/json_files\n",
      "Creating jsDir:tmp/fastapi/tests/test_tutorial/test_handling_errors/json_files\n",
      "Creating jsDir:tmp/fastapi/tests/test_tutorial/test_custom_request_and_route/json_files\n",
      "Creating jsDir:tmp/fastapi/tests/test_tutorial/test_metadata/json_files\n",
      "Creating jsDir:tmp/fastapi/tests/test_tutorial/test_response_model/json_files\n",
      "Creating jsDir:tmp/fastapi/tests/test_tutorial/test_background_tasks/json_files\n",
      "Creating jsDir:tmp/fastapi/tests/test_tutorial/test_extra_models/json_files\n",
      "Creating jsDir:tmp/fastapi/tests/test_tutorial/test_cookie_params/json_files\n",
      "Creating jsDir:tmp/fastapi/tests/test_tutorial/test_response_headers/json_files\n",
      "Creating jsDir:tmp/fastapi/tests/test_tutorial/test_body_nested_models/json_files\n",
      "Creating jsDir:tmp/fastapi/tests/test_tutorial/test_settings/json_files\n",
      "Creating jsDir:tmp/fastapi/tests/test_tutorial/test_first_steps/json_files\n",
      "Creating jsDir:tmp/fastapi/tests/test_tutorial/test_testing_dependencies/json_files\n",
      "Creating jsDir:tmp/fastapi/tests/test_tutorial/test_events/json_files\n",
      "Creating jsDir:tmp/fastapi/tests/test_tutorial/test_header_params/json_files\n",
      "Creating jsDir:tmp/fastapi/tests/test_tutorial/test_body_fields/json_files\n",
      "Creating jsDir:tmp/fastapi/tests/test_tutorial/test_sql_databases/json_files\n",
      "Creating jsDir:tmp/fastapi/tests/test_tutorial/test_body_multiple_params/json_files\n",
      "Creating jsDir:tmp/fastapi/tests/test_tutorial/test_request_forms_and_files/json_files\n",
      "Creating jsDir:tmp/fastapi/tests/test_tutorial/test_async_tests/json_files\n",
      "Creating jsDir:tmp/fastapi/tests/test_tutorial/test_dataclasses/json_files\n",
      "Creating jsDir:tmp/fastapi/tests/test_tutorial/test_security/json_files\n",
      "Creating jsDir:tmp/fastapi/tests/test_tutorial/test_testing/json_files\n",
      "Creating jsDir:tmp/fastapi/tests/test_tutorial/test_request_files/json_files\n",
      "Creating jsDir:tmp/fastapi/tests/test_tutorial/test_sub_applications/json_files\n",
      "Creating jsDir:tmp/fastapi/tests/test_tutorial/test_dependencies/json_files\n",
      "Creating jsDir:tmp/fastapi/tests/test_tutorial/test_body/json_files\n",
      "Creating jsDir:tmp/fastapi/tests/test_tutorial/test_conditional_openapi/json_files\n",
      "Creating jsDir:tmp/fastapi/tests/test_tutorial/test_wsgi/json_files\n",
      "Creating jsDir:tmp/fastapi/tests/test_tutorial/test_openapi_callbacks/json_files\n",
      "Creating jsDir:tmp/fastapi/tests/test_tutorial/test_body_updates/json_files\n",
      "Creating jsDir:tmp/fastapi/tests/test_tutorial/test_sql_databases_peewee/json_files\n",
      "Creating jsDir:tmp/fastapi/tests/test_tutorial/test_response_cookies/json_files\n",
      "Creating jsDir:tmp/fastapi/tests/test_tutorial/test_query_params_str_validations/json_files\n",
      "Creating jsDir:tmp/fastapi/tests/test_tutorial/test_additional_responses/json_files\n",
      "Creating jsDir:tmp/fastapi/fastapi/json_files\n",
      "Added in funct/method generate_encoders_by_class_tuples , argument named ENCODERS_BY_TYPE, number of argument 0\n",
      "Creating jsDir:tmp/fastapi/fastapi/middleware/json_files\n",
      "Creating jsDir:tmp/fastapi/fastapi/security/json_files\n",
      "Creating jsDir:tmp/fastapi/fastapi/dependencies/json_files\n",
      "Creating jsDir:tmp/fastapi/fastapi/openapi/json_files\n",
      "Creating jsDir:tmp/fastapi/scripts/json_files\n",
      "Error when processing docs.py:  <class 'AttributeError'>\n",
      "Creating jsDir:tmp/fastapi/docs_src/request_forms_and_files/json_files\n",
      "Creating jsDir:tmp/fastapi/docs_src/middleware/json_files\n",
      "Creating jsDir:tmp/fastapi/docs_src/settings/json_files\n",
      "Creating jsDir:tmp/fastapi/docs_src/settings/app02/json_files\n",
      "Creating jsDir:tmp/fastapi/docs_src/settings/app03/json_files\n",
      "Creating jsDir:tmp/fastapi/docs_src/settings/app01/json_files\n",
      "Creating jsDir:tmp/fastapi/docs_src/conditional_openapi/json_files\n",
      "Creating jsDir:tmp/fastapi/docs_src/request_files/json_files\n",
      "Creating jsDir:tmp/fastapi/docs_src/body_multiple_params/json_files\n",
      "Creating jsDir:tmp/fastapi/docs_src/body_nested_models/json_files\n",
      "Creating jsDir:tmp/fastapi/docs_src/openapi_callbacks/json_files\n",
      "Creating jsDir:tmp/fastapi/docs_src/response_model/json_files\n",
      "Creating jsDir:tmp/fastapi/docs_src/response_status_code/json_files\n",
      "Creating jsDir:tmp/fastapi/docs_src/python_types/json_files\n",
      "Creating jsDir:tmp/fastapi/docs_src/dependency_testing/json_files\n",
      "Creating jsDir:tmp/fastapi/docs_src/security/json_files\n",
      "Creating jsDir:tmp/fastapi/docs_src/header_params/json_files\n",
      "Creating jsDir:tmp/fastapi/docs_src/background_tasks/json_files\n",
      "Creating jsDir:tmp/fastapi/docs_src/sql_databases/json_files\n",
      "Creating jsDir:tmp/fastapi/docs_src/sql_databases/sql_app_py39/json_files\n",
      "Creating jsDir:tmp/fastapi/docs_src/sql_databases/sql_app_py39/tests/json_files\n",
      "Creating jsDir:tmp/fastapi/docs_src/sql_databases/sql_app/json_files\n",
      "Creating jsDir:tmp/fastapi/docs_src/sql_databases/sql_app/tests/json_files\n",
      "Creating jsDir:tmp/fastapi/docs_src/sql_databases/sql_app_py310/json_files\n",
      "Creating jsDir:tmp/fastapi/docs_src/sql_databases/sql_app_py310/tests/json_files\n",
      "Creating jsDir:tmp/fastapi/docs_src/encoder/json_files\n",
      "Creating jsDir:tmp/fastapi/docs_src/wsgi/json_files\n",
      "Creating jsDir:tmp/fastapi/docs_src/query_params_str_validations/json_files\n",
      "Creating jsDir:tmp/fastapi/docs_src/debugging/json_files\n",
      "Creating jsDir:tmp/fastapi/docs_src/behind_a_proxy/json_files\n",
      "Creating jsDir:tmp/fastapi/docs_src/body_updates/json_files\n",
      "Creating jsDir:tmp/fastapi/docs_src/body/json_files\n",
      "Creating jsDir:tmp/fastapi/docs_src/path_operation_advanced_configuration/json_files\n",
      "Creating jsDir:tmp/fastapi/docs_src/generate_clients/json_files\n",
      "Creating jsDir:tmp/fastapi/docs_src/path_params/json_files\n",
      "Creating jsDir:tmp/fastapi/docs_src/sql_databases_peewee/json_files\n",
      "Creating jsDir:tmp/fastapi/docs_src/sql_databases_peewee/sql_app/json_files\n",
      "Creating jsDir:tmp/fastapi/docs_src/dependencies/json_files\n",
      "Creating jsDir:tmp/fastapi/docs_src/using_request_directly/json_files\n",
      "Creating jsDir:tmp/fastapi/docs_src/websockets/json_files\n",
      "Creating jsDir:tmp/fastapi/docs_src/extra_data_types/json_files\n",
      "Creating jsDir:tmp/fastapi/docs_src/additional_responses/json_files\n",
      "Creating jsDir:tmp/fastapi/docs_src/request_forms/json_files\n",
      "Creating jsDir:tmp/fastapi/docs_src/additional_status_codes/json_files\n",
      "Creating jsDir:tmp/fastapi/docs_src/handling_errors/json_files\n",
      "Creating jsDir:tmp/fastapi/docs_src/static_files/json_files\n",
      "Creating jsDir:tmp/fastapi/docs_src/path_operation_configuration/json_files\n",
      "Creating jsDir:tmp/fastapi/docs_src/path_params_numeric_validations/json_files\n",
      "Creating jsDir:tmp/fastapi/docs_src/query_params/json_files\n",
      "Creating jsDir:tmp/fastapi/docs_src/graphql/json_files\n",
      "Creating jsDir:tmp/fastapi/docs_src/schema_extra_example/json_files\n",
      "Creating jsDir:tmp/fastapi/docs_src/cookie_params/json_files\n",
      "Creating jsDir:tmp/fastapi/docs_src/cors/json_files\n",
      "Creating jsDir:tmp/fastapi/docs_src/response_headers/json_files\n",
      "Creating jsDir:tmp/fastapi/docs_src/response_change_status_code/json_files\n",
      "Creating jsDir:tmp/fastapi/docs_src/templates/json_files\n",
      "Creating jsDir:tmp/fastapi/docs_src/custom_request_and_route/json_files\n",
      "Creating jsDir:tmp/fastapi/docs_src/extra_models/json_files\n",
      "Creating jsDir:tmp/fastapi/docs_src/app_testing/json_files\n",
      "Creating jsDir:tmp/fastapi/docs_src/app_testing/app_b_py310/json_files\n",
      "Creating jsDir:tmp/fastapi/docs_src/app_testing/app_b/json_files\n",
      "Creating jsDir:tmp/fastapi/docs_src/bigger_applications/json_files\n",
      "Creating jsDir:tmp/fastapi/docs_src/bigger_applications/app/json_files\n",
      "Creating jsDir:tmp/fastapi/docs_src/bigger_applications/app/routers/json_files\n",
      "Creating jsDir:tmp/fastapi/docs_src/bigger_applications/app/internal/json_files\n",
      "Creating jsDir:tmp/fastapi/docs_src/first_steps/json_files\n",
      "Creating jsDir:tmp/fastapi/docs_src/async_sql_databases/json_files\n",
      "Creating jsDir:tmp/fastapi/docs_src/body_fields/json_files\n",
      "Creating jsDir:tmp/fastapi/docs_src/events/json_files\n",
      "Creating jsDir:tmp/fastapi/docs_src/response_cookies/json_files\n",
      "Creating jsDir:tmp/fastapi/docs_src/custom_response/json_files\n",
      "Creating jsDir:tmp/fastapi/docs_src/metadata/json_files\n",
      "Creating jsDir:tmp/fastapi/docs_src/advanced_middleware/json_files\n",
      "Creating jsDir:tmp/fastapi/docs_src/extending_openapi/json_files\n",
      "Creating jsDir:tmp/fastapi/docs_src/nosql_databases/json_files\n",
      "Creating jsDir:tmp/fastapi/docs_src/dataclasses/json_files\n",
      "Creating jsDir:tmp/fastapi/docs_src/response_directly/json_files\n",
      "Creating jsDir:tmp/fastapi/docs_src/async_tests/json_files\n"
     ]
    },
    {
     "ename": "KeyboardInterrupt",
     "evalue": "",
     "output_type": "error",
     "traceback": [
      "\u001B[0;31m---------------------------------------------------------------------------\u001B[0m",
      "\u001B[0;31mKeyboardInterrupt\u001B[0m                         Traceback (most recent call last)",
      "Cell \u001B[0;32mIn[28], line 1\u001B[0m\n\u001B[0;32m----> 1\u001B[0m \u001B[43mcollect\u001B[49m\u001B[43m(\u001B[49m\u001B[43m)\u001B[49m\n",
      "File \u001B[0;32msrc/dependency_injector/_cwiring.pyx:28\u001B[0m, in \u001B[0;36mdependency_injector._cwiring._get_sync_patched._patched\u001B[0;34m()\u001B[0m\n",
      "Cell \u001B[0;32mIn[26], line 12\u001B[0m, in \u001B[0;36mcollect\u001B[0;34m(build, graph)\u001B[0m\n\u001B[1;32m     10\u001B[0m \u001B[38;5;28;01mfor\u001B[39;00m path, name \u001B[38;5;129;01min\u001B[39;00m repositories:\n\u001B[1;32m     11\u001B[0m     start \u001B[38;5;241m=\u001B[39m time\u001B[38;5;241m.\u001B[39mtime()\n\u001B[0;32m---> 12\u001B[0m     \u001B[43mbuild\u001B[49m\u001B[38;5;241;43m.\u001B[39;49m\u001B[43mbuild\u001B[49m\u001B[43m(\u001B[49m\n\u001B[1;32m     13\u001B[0m \u001B[43m        \u001B[49m\u001B[43m[\u001B[49m\u001B[43mpath\u001B[49m\u001B[43m]\u001B[49m\u001B[43m,\u001B[49m\n\u001B[1;32m     14\u001B[0m \u001B[43m        \u001B[49m\u001B[38;5;124;43mf\u001B[39;49m\u001B[38;5;124;43m\"\u001B[39;49m\u001B[38;5;132;43;01m{\u001B[39;49;00m\u001B[43mname\u001B[49m\u001B[38;5;132;43;01m}\u001B[39;49;00m\u001B[38;5;132;43;01m{\u001B[39;49;00m\u001B[43mi\u001B[49m\u001B[38;5;132;43;01m}\u001B[39;49;00m\u001B[38;5;124;43m\"\u001B[39;49m\u001B[43m,\u001B[49m\n\u001B[1;32m     15\u001B[0m \u001B[43m        \u001B[49m\u001B[38;5;124;43m\"\u001B[39;49m\u001B[38;5;124;43m\"\u001B[39;49m\u001B[43m,\u001B[49m\n\u001B[1;32m     16\u001B[0m \u001B[43m        \u001B[49m\u001B[43mprune\u001B[49m\u001B[38;5;241;43m=\u001B[39;49m\u001B[38;5;28;43;01mTrue\u001B[39;49;00m\u001B[43m,\u001B[49m\n\u001B[1;32m     17\u001B[0m \u001B[43m    \u001B[49m\u001B[43m)\u001B[49m\n\u001B[1;32m     18\u001B[0m     execution_time \u001B[38;5;241m=\u001B[39m time\u001B[38;5;241m.\u001B[39mtime() \u001B[38;5;241m-\u001B[39m start\n\u001B[1;32m     19\u001B[0m     summary \u001B[38;5;241m=\u001B[39m graph\u001B[38;5;241m.\u001B[39mget_summary(\u001B[38;5;124mf\u001B[39m\u001B[38;5;124m\"\u001B[39m\u001B[38;5;132;01m{\u001B[39;00mname\u001B[38;5;132;01m}\u001B[39;00m\u001B[38;5;132;01m{\u001B[39;00mi\u001B[38;5;132;01m}\u001B[39;00m\u001B[38;5;124m\"\u001B[39m)\n",
      "File \u001B[0;32m~/GitHub/repograph/backend/repograph/entities/build/service.py:155\u001B[0m, in \u001B[0;36mBuildService.build\u001B[0;34m(self, input_list, name, description, prune)\u001B[0m\n\u001B[1;32m    153\u001B[0m \u001B[38;5;28;01mwith\u001B[39;00m \u001B[38;5;28mself\u001B[39m\u001B[38;5;241m.\u001B[39mgraph\u001B[38;5;241m.\u001B[39mget_transaction(graph\u001B[38;5;241m.\u001B[39mneo4j_name) \u001B[38;5;28;01mas\u001B[39;00m tx:\n\u001B[1;32m    154\u001B[0m     \u001B[38;5;28;01mtry\u001B[39;00m:\n\u001B[0;32m--> 155\u001B[0m         \u001B[38;5;28;43mself\u001B[39;49m\u001B[38;5;241;43m.\u001B[39;49m\u001B[43mcall_inspect4py\u001B[49m\u001B[43m(\u001B[49m\u001B[43mi\u001B[49m\u001B[43m,\u001B[49m\u001B[43m \u001B[49m\u001B[38;5;28;43mself\u001B[39;49m\u001B[38;5;241;43m.\u001B[39;49m\u001B[43mtemp_output\u001B[49m\u001B[43m)\u001B[49m\n\u001B[1;32m    156\u001B[0m         directory_info, call_graph \u001B[38;5;241m=\u001B[39m \u001B[38;5;28mself\u001B[39m\u001B[38;5;241m.\u001B[39mparse_inspect4py_output(\n\u001B[1;32m    157\u001B[0m             \u001B[38;5;28mself\u001B[39m\u001B[38;5;241m.\u001B[39mtemp_output\n\u001B[1;32m    158\u001B[0m         )\n\u001B[1;32m    160\u001B[0m         builder \u001B[38;5;241m=\u001B[39m RepographBuilder(\n\u001B[1;32m    161\u001B[0m             \u001B[38;5;28mself\u001B[39m\u001B[38;5;241m.\u001B[39msummarization\u001B[38;5;241m.\u001B[39msummarize_function\n\u001B[1;32m    162\u001B[0m             \u001B[38;5;28;01mif\u001B[39;00m \u001B[38;5;28mself\u001B[39m\u001B[38;5;241m.\u001B[39msummarization\u001B[38;5;241m.\u001B[39mactive\n\u001B[0;32m   (...)\u001B[0m\n\u001B[1;32m    167\u001B[0m             tx,\n\u001B[1;32m    168\u001B[0m         )\n",
      "File \u001B[0;32m~/GitHub/repograph/backend/repograph/entities/build/service.py:67\u001B[0m, in \u001B[0;36mBuildService.call_inspect4py\u001B[0;34m(input_path, output_path)\u001B[0m\n\u001B[1;32m     52\u001B[0m \u001B[38;5;250m\u001B[39m\u001B[38;5;124;03m\"\"\"Call inspect4py for code analysis and extraction.\u001B[39;00m\n\u001B[1;32m     53\u001B[0m \n\u001B[1;32m     54\u001B[0m \u001B[38;5;124;03mArgs:\u001B[39;00m\n\u001B[0;32m   (...)\u001B[0m\n\u001B[1;32m     59\u001B[0m \u001B[38;5;124;03m    output_path (str)\u001B[39;00m\n\u001B[1;32m     60\u001B[0m \u001B[38;5;124;03m\"\"\"\u001B[39;00m\n\u001B[1;32m     61\u001B[0m log\u001B[38;5;241m.\u001B[39minfo(\n\u001B[1;32m     62\u001B[0m     \u001B[38;5;124m\"\u001B[39m\u001B[38;5;124mExtracting information from \u001B[39m\u001B[38;5;132;01m%s\u001B[39;00m\u001B[38;5;124m using inspect4py to \u001B[39m\u001B[38;5;132;01m%s\u001B[39;00m\u001B[38;5;124m...\u001B[39m\u001B[38;5;124m\"\u001B[39m,\n\u001B[1;32m     63\u001B[0m     input_path,\n\u001B[1;32m     64\u001B[0m     output_path,\n\u001B[1;32m     65\u001B[0m )\n\u001B[0;32m---> 67\u001B[0m \u001B[43msubprocess\u001B[49m\u001B[38;5;241;43m.\u001B[39;49m\u001B[43mcheck_call\u001B[49m\u001B[43m(\u001B[49m\n\u001B[1;32m     68\u001B[0m \u001B[43m    \u001B[49m\u001B[43m[\u001B[49m\n\u001B[1;32m     69\u001B[0m \u001B[43m        \u001B[49m\u001B[38;5;124;43m\"\u001B[39;49m\u001B[38;5;124;43minspect4py\u001B[39;49m\u001B[38;5;124;43m\"\u001B[39;49m\u001B[43m,\u001B[49m\n\u001B[1;32m     70\u001B[0m \u001B[43m        \u001B[49m\u001B[38;5;124;43m\"\u001B[39;49m\u001B[38;5;124;43m-i\u001B[39;49m\u001B[38;5;124;43m\"\u001B[39;49m\u001B[43m,\u001B[49m\n\u001B[1;32m     71\u001B[0m \u001B[43m        \u001B[49m\u001B[43minput_path\u001B[49m\u001B[43m,\u001B[49m\n\u001B[1;32m     72\u001B[0m \u001B[43m        \u001B[49m\u001B[38;5;124;43m\"\u001B[39;49m\u001B[38;5;124;43m-o\u001B[39;49m\u001B[38;5;124;43m\"\u001B[39;49m\u001B[43m,\u001B[49m\n\u001B[1;32m     73\u001B[0m \u001B[43m        \u001B[49m\u001B[43moutput_path\u001B[49m\u001B[43m,\u001B[49m\n\u001B[1;32m     74\u001B[0m \u001B[43m        \u001B[49m\u001B[38;5;124;43m\"\u001B[39;49m\u001B[38;5;124;43m-md\u001B[39;49m\u001B[38;5;124;43m\"\u001B[39;49m\u001B[43m,\u001B[49m\n\u001B[1;32m     75\u001B[0m \u001B[43m        \u001B[49m\u001B[38;5;124;43m\"\u001B[39;49m\u001B[38;5;124;43m-rm\u001B[39;49m\u001B[38;5;124;43m\"\u001B[39;49m\u001B[43m,\u001B[49m\n\u001B[1;32m     76\u001B[0m \u001B[43m        \u001B[49m\u001B[38;5;124;43m\"\u001B[39;49m\u001B[38;5;124;43m-si\u001B[39;49m\u001B[38;5;124;43m\"\u001B[39;49m\u001B[43m,\u001B[49m\n\u001B[1;32m     77\u001B[0m \u001B[43m        \u001B[49m\u001B[38;5;124;43m\"\u001B[39;49m\u001B[38;5;124;43m-ld\u001B[39;49m\u001B[38;5;124;43m\"\u001B[39;49m\u001B[43m,\u001B[49m\n\u001B[1;32m     78\u001B[0m \u001B[43m        \u001B[49m\u001B[38;5;124;43m\"\u001B[39;49m\u001B[38;5;124;43m-sc\u001B[39;49m\u001B[38;5;124;43m\"\u001B[39;49m\u001B[43m,\u001B[49m\n\u001B[1;32m     79\u001B[0m \u001B[43m        \u001B[49m\u001B[38;5;124;43m\"\u001B[39;49m\u001B[38;5;124;43m-ast\u001B[39;49m\u001B[38;5;124;43m\"\u001B[39;49m\u001B[43m,\u001B[49m\n\u001B[1;32m     80\u001B[0m \u001B[43m        \u001B[49m\u001B[38;5;124;43m\"\u001B[39;49m\u001B[38;5;124;43m-cl\u001B[39;49m\u001B[38;5;124;43m\"\u001B[39;49m\u001B[43m,\u001B[49m\n\u001B[1;32m     81\u001B[0m \u001B[43m    \u001B[49m\u001B[43m]\u001B[49m\n\u001B[1;32m     82\u001B[0m \u001B[43m\u001B[49m\u001B[43m)\u001B[49m\n\u001B[1;32m     84\u001B[0m log\u001B[38;5;241m.\u001B[39minfo(\u001B[38;5;124m\"\u001B[39m\u001B[38;5;124mDone!\u001B[39m\u001B[38;5;124m\"\u001B[39m)\n\u001B[1;32m     85\u001B[0m \u001B[38;5;28;01mreturn\u001B[39;00m output_path\n",
      "File \u001B[0;32m/opt/homebrew/Caskroom/miniforge/base/envs/repograph/lib/python3.10/subprocess.py:364\u001B[0m, in \u001B[0;36mcheck_call\u001B[0;34m(*popenargs, **kwargs)\u001B[0m\n\u001B[1;32m    354\u001B[0m \u001B[38;5;28;01mdef\u001B[39;00m \u001B[38;5;21mcheck_call\u001B[39m(\u001B[38;5;241m*\u001B[39mpopenargs, \u001B[38;5;241m*\u001B[39m\u001B[38;5;241m*\u001B[39mkwargs):\n\u001B[1;32m    355\u001B[0m \u001B[38;5;250m    \u001B[39m\u001B[38;5;124;03m\"\"\"Run command with arguments.  Wait for command to complete.  If\u001B[39;00m\n\u001B[1;32m    356\u001B[0m \u001B[38;5;124;03m    the exit code was zero then return, otherwise raise\u001B[39;00m\n\u001B[1;32m    357\u001B[0m \u001B[38;5;124;03m    CalledProcessError.  The CalledProcessError object will have the\u001B[39;00m\n\u001B[0;32m   (...)\u001B[0m\n\u001B[1;32m    362\u001B[0m \u001B[38;5;124;03m    check_call([\"ls\", \"-l\"])\u001B[39;00m\n\u001B[1;32m    363\u001B[0m \u001B[38;5;124;03m    \"\"\"\u001B[39;00m\n\u001B[0;32m--> 364\u001B[0m     retcode \u001B[38;5;241m=\u001B[39m \u001B[43mcall\u001B[49m\u001B[43m(\u001B[49m\u001B[38;5;241;43m*\u001B[39;49m\u001B[43mpopenargs\u001B[49m\u001B[43m,\u001B[49m\u001B[43m \u001B[49m\u001B[38;5;241;43m*\u001B[39;49m\u001B[38;5;241;43m*\u001B[39;49m\u001B[43mkwargs\u001B[49m\u001B[43m)\u001B[49m\n\u001B[1;32m    365\u001B[0m     \u001B[38;5;28;01mif\u001B[39;00m retcode:\n\u001B[1;32m    366\u001B[0m         cmd \u001B[38;5;241m=\u001B[39m kwargs\u001B[38;5;241m.\u001B[39mget(\u001B[38;5;124m\"\u001B[39m\u001B[38;5;124margs\u001B[39m\u001B[38;5;124m\"\u001B[39m)\n",
      "File \u001B[0;32m/opt/homebrew/Caskroom/miniforge/base/envs/repograph/lib/python3.10/subprocess.py:347\u001B[0m, in \u001B[0;36mcall\u001B[0;34m(timeout, *popenargs, **kwargs)\u001B[0m\n\u001B[1;32m    345\u001B[0m \u001B[38;5;28;01mwith\u001B[39;00m Popen(\u001B[38;5;241m*\u001B[39mpopenargs, \u001B[38;5;241m*\u001B[39m\u001B[38;5;241m*\u001B[39mkwargs) \u001B[38;5;28;01mas\u001B[39;00m p:\n\u001B[1;32m    346\u001B[0m     \u001B[38;5;28;01mtry\u001B[39;00m:\n\u001B[0;32m--> 347\u001B[0m         \u001B[38;5;28;01mreturn\u001B[39;00m \u001B[43mp\u001B[49m\u001B[38;5;241;43m.\u001B[39;49m\u001B[43mwait\u001B[49m\u001B[43m(\u001B[49m\u001B[43mtimeout\u001B[49m\u001B[38;5;241;43m=\u001B[39;49m\u001B[43mtimeout\u001B[49m\u001B[43m)\u001B[49m\n\u001B[1;32m    348\u001B[0m     \u001B[38;5;28;01mexcept\u001B[39;00m:  \u001B[38;5;66;03m# Including KeyboardInterrupt, wait handled that.\u001B[39;00m\n\u001B[1;32m    349\u001B[0m         p\u001B[38;5;241m.\u001B[39mkill()\n",
      "File \u001B[0;32m/opt/homebrew/Caskroom/miniforge/base/envs/repograph/lib/python3.10/subprocess.py:1209\u001B[0m, in \u001B[0;36mPopen.wait\u001B[0;34m(self, timeout)\u001B[0m\n\u001B[1;32m   1207\u001B[0m     endtime \u001B[38;5;241m=\u001B[39m _time() \u001B[38;5;241m+\u001B[39m timeout\n\u001B[1;32m   1208\u001B[0m \u001B[38;5;28;01mtry\u001B[39;00m:\n\u001B[0;32m-> 1209\u001B[0m     \u001B[38;5;28;01mreturn\u001B[39;00m \u001B[38;5;28;43mself\u001B[39;49m\u001B[38;5;241;43m.\u001B[39;49m\u001B[43m_wait\u001B[49m\u001B[43m(\u001B[49m\u001B[43mtimeout\u001B[49m\u001B[38;5;241;43m=\u001B[39;49m\u001B[43mtimeout\u001B[49m\u001B[43m)\u001B[49m\n\u001B[1;32m   1210\u001B[0m \u001B[38;5;28;01mexcept\u001B[39;00m \u001B[38;5;167;01mKeyboardInterrupt\u001B[39;00m:\n\u001B[1;32m   1211\u001B[0m     \u001B[38;5;66;03m# https://bugs.python.org/issue25942\u001B[39;00m\n\u001B[1;32m   1212\u001B[0m     \u001B[38;5;66;03m# The first keyboard interrupt waits briefly for the child to\u001B[39;00m\n\u001B[1;32m   1213\u001B[0m     \u001B[38;5;66;03m# exit under the common assumption that it also received the ^C\u001B[39;00m\n\u001B[1;32m   1214\u001B[0m     \u001B[38;5;66;03m# generated SIGINT and will exit rapidly.\u001B[39;00m\n\u001B[1;32m   1215\u001B[0m     \u001B[38;5;28;01mif\u001B[39;00m timeout \u001B[38;5;129;01mis\u001B[39;00m \u001B[38;5;129;01mnot\u001B[39;00m \u001B[38;5;28;01mNone\u001B[39;00m:\n",
      "File \u001B[0;32m/opt/homebrew/Caskroom/miniforge/base/envs/repograph/lib/python3.10/subprocess.py:1943\u001B[0m, in \u001B[0;36mPopen._wait\u001B[0;34m(self, timeout)\u001B[0m\n\u001B[1;32m   1941\u001B[0m \u001B[38;5;28;01mif\u001B[39;00m \u001B[38;5;28mself\u001B[39m\u001B[38;5;241m.\u001B[39mreturncode \u001B[38;5;129;01mis\u001B[39;00m \u001B[38;5;129;01mnot\u001B[39;00m \u001B[38;5;28;01mNone\u001B[39;00m:\n\u001B[1;32m   1942\u001B[0m     \u001B[38;5;28;01mbreak\u001B[39;00m  \u001B[38;5;66;03m# Another thread waited.\u001B[39;00m\n\u001B[0;32m-> 1943\u001B[0m (pid, sts) \u001B[38;5;241m=\u001B[39m \u001B[38;5;28;43mself\u001B[39;49m\u001B[38;5;241;43m.\u001B[39;49m\u001B[43m_try_wait\u001B[49m\u001B[43m(\u001B[49m\u001B[38;5;241;43m0\u001B[39;49m\u001B[43m)\u001B[49m\n\u001B[1;32m   1944\u001B[0m \u001B[38;5;66;03m# Check the pid and loop as waitpid has been known to\u001B[39;00m\n\u001B[1;32m   1945\u001B[0m \u001B[38;5;66;03m# return 0 even without WNOHANG in odd situations.\u001B[39;00m\n\u001B[1;32m   1946\u001B[0m \u001B[38;5;66;03m# http://bugs.python.org/issue14396.\u001B[39;00m\n\u001B[1;32m   1947\u001B[0m \u001B[38;5;28;01mif\u001B[39;00m pid \u001B[38;5;241m==\u001B[39m \u001B[38;5;28mself\u001B[39m\u001B[38;5;241m.\u001B[39mpid:\n",
      "File \u001B[0;32m/opt/homebrew/Caskroom/miniforge/base/envs/repograph/lib/python3.10/subprocess.py:1901\u001B[0m, in \u001B[0;36mPopen._try_wait\u001B[0;34m(self, wait_flags)\u001B[0m\n\u001B[1;32m   1899\u001B[0m \u001B[38;5;250m\u001B[39m\u001B[38;5;124;03m\"\"\"All callers to this function MUST hold self._waitpid_lock.\"\"\"\u001B[39;00m\n\u001B[1;32m   1900\u001B[0m \u001B[38;5;28;01mtry\u001B[39;00m:\n\u001B[0;32m-> 1901\u001B[0m     (pid, sts) \u001B[38;5;241m=\u001B[39m \u001B[43mos\u001B[49m\u001B[38;5;241;43m.\u001B[39;49m\u001B[43mwaitpid\u001B[49m\u001B[43m(\u001B[49m\u001B[38;5;28;43mself\u001B[39;49m\u001B[38;5;241;43m.\u001B[39;49m\u001B[43mpid\u001B[49m\u001B[43m,\u001B[49m\u001B[43m \u001B[49m\u001B[43mwait_flags\u001B[49m\u001B[43m)\u001B[49m\n\u001B[1;32m   1902\u001B[0m \u001B[38;5;28;01mexcept\u001B[39;00m \u001B[38;5;167;01mChildProcessError\u001B[39;00m:\n\u001B[1;32m   1903\u001B[0m     \u001B[38;5;66;03m# This happens if SIGCLD is set to be ignored or waiting\u001B[39;00m\n\u001B[1;32m   1904\u001B[0m     \u001B[38;5;66;03m# for child processes has otherwise been disabled for our\u001B[39;00m\n\u001B[1;32m   1905\u001B[0m     \u001B[38;5;66;03m# process.  This child is dead, we can't get the status.\u001B[39;00m\n\u001B[1;32m   1906\u001B[0m     pid \u001B[38;5;241m=\u001B[39m \u001B[38;5;28mself\u001B[39m\u001B[38;5;241m.\u001B[39mpid\n",
      "\u001B[0;31mKeyboardInterrupt\u001B[0m: "
     ]
    }
   ],
   "source": [
    "collect()"
   ],
   "metadata": {
    "collapsed": false
   }
  },
  {
   "cell_type": "code",
   "execution_count": null,
   "outputs": [],
   "source": [],
   "metadata": {
    "collapsed": false
   }
  }
 ],
 "metadata": {
  "kernelspec": {
   "display_name": "Python 3",
   "language": "python",
   "name": "python3"
  },
  "language_info": {
   "codemirror_mode": {
    "name": "ipython",
    "version": 2
   },
   "file_extension": ".py",
   "mimetype": "text/x-python",
   "name": "python",
   "nbconvert_exporter": "python",
   "pygments_lexer": "ipython2",
   "version": "2.7.6"
  }
 },
 "nbformat": 4,
 "nbformat_minor": 0
}
