{
 "cells": [
  {
   "cell_type": "markdown",
   "id": "b7cc0d9e",
   "metadata": {},
   "source": [
    "# Single Repository Demo"
   ]
  },
  {
   "cell_type": "code",
   "execution_count": 1,
   "id": "29f98acf",
   "metadata": {},
   "outputs": [
    {
     "data": {
      "application/javascript": [
       "var link = document.createElement(\"link\");\n",
       "\tlink.rel = \"stylesheet\";\n",
       "\tlink.type = \"text/css\";\n",
       "\tlink.href = \"https://cdnjs.cloudflare.com/ajax/libs/vis/4.8.2/vis.css\";\n",
       "\tdocument.head.appendChild(link);\n",
       "require.config({     paths: {         vis: '//cdnjs.cloudflare.com/ajax/libs/vis/4.8.2/vis.min'     } }); require(['vis'], function(vis) {  window.vis = vis; }); "
      ],
      "text/plain": [
       "<IPython.core.display.Javascript object>"
      ]
     },
     "metadata": {},
     "output_type": "display_data"
    }
   ],
   "source": [
    "from py2neo import Graph, Subgraph\n",
    "import neo4jupyter\n",
    "import subprocess\n",
    "neo4jupyter.init_notebook_mode()"
   ]
  },
  {
   "cell_type": "code",
   "execution_count": 2,
   "id": "daa3b350",
   "metadata": {},
   "outputs": [],
   "source": [
    "repo_path = \"../demo/fastapi-out\"\n",
    "repo_name = \"fastapi\""
   ]
  },
  {
   "cell_type": "markdown",
   "id": "6c1c4826",
   "metadata": {},
   "source": [
    "## Run Repograph builder\n",
    "\n",
    "This may take some time!"
   ]
  },
  {
   "cell_type": "code",
   "execution_count": 3,
   "id": "b09c3a19",
   "metadata": {},
   "outputs": [],
   "source": [
    "from repograph.builder.repograph_builder import RepographBuilder, RepographBuildError\n",
    "from repograph.builder.code_analyser import call_inspect4py, cleanup_inspect4py_output\n",
    "from repograph.cli import parse_inspect4py_output"
   ]
  },
  {
   "cell_type": "code",
   "execution_count": 6,
   "id": "d2bab55c",
   "metadata": {},
   "outputs": [
    {
     "name": "stdout",
     "output_type": "stream",
     "text": [
      "INFO:repograph.builder.function_summarizer | Initialising CodeT5 model...\n",
      "INFO:repograph.builder.function_summarizer | Ready!\n",
      "ERROR:repograph.cli | Couldn't find call_graph.json in input directory!\n",
      "INFO:repograph.repograph_builder | Building Repograph...\n",
      "INFO:repograph.repograph_builder | Sorting directories with hierarchical ordering...\n",
      "WARNING:repograph.repograph_builder | No requirements information found.\n",
      "INFO:repograph.repograph_builder | Parsing repository license information.\n",
      "INFO:repograph.repograph_builder | Extracting information from directories...\n",
      "INFO:repograph.repograph_builder | Parsing directory 'fastapi/fastapi' (1/142)\n",
      "INFO:repograph.repograph_builder | --> Parsing file `params` (1/20)\n",
      "INFO:repograph.repograph_builder | --> Parsing file `responses` (2/20)\n",
      "INFO:repograph.repograph_builder | --> Parsing file `templating` (3/20)\n",
      "INFO:repograph.repograph_builder | --> Parsing file `exception_handlers` (4/20)\n",
      "INFO:repograph.repograph_builder | --> Parsing file `websockets` (5/20)\n",
      "INFO:repograph.repograph_builder | --> Parsing file `applications` (6/20)\n",
      "INFO:repograph.repograph_builder | --> Parsing file `concurrency` (7/20)\n",
      "INFO:repograph.repograph_builder | --> Parsing file `background` (8/20)\n",
      "INFO:repograph.repograph_builder | --> Parsing file `__init__` (9/20)\n",
      "INFO:repograph.repograph_builder | --> Parsing file `encoders` (10/20)\n",
      "INFO:repograph.repograph_builder | --> Parsing file `types` (11/20)\n",
      "INFO:repograph.repograph_builder | --> Parsing file `logger` (12/20)\n",
      "INFO:repograph.repograph_builder | --> Parsing file `staticfiles` (13/20)\n",
      "INFO:repograph.repograph_builder | --> Parsing file `utils` (14/20)\n",
      "INFO:repograph.repograph_builder | --> Parsing file `routing` (15/20)\n",
      "INFO:repograph.repograph_builder | --> Parsing file `testclient` (16/20)\n",
      "INFO:repograph.repograph_builder | --> Parsing file `exceptions` (17/20)\n",
      "INFO:repograph.repograph_builder | --> Parsing file `param_functions` (18/20)\n",
      "INFO:repograph.repograph_builder | --> Parsing file `requests` (19/20)\n",
      "INFO:repograph.repograph_builder | --> Parsing file `datastructures` (20/20)\n"
     ]
    },
    {
     "ename": "ValidationError",
     "evalue": "1 validation error for Docstring\nshort_description\n  none is not an allowed value (type=type_error.none.not_allowed)",
     "output_type": "error",
     "traceback": [
      "\u001b[0;31m---------------------------------------------------------------------------\u001b[0m",
      "\u001b[0;31mValidationError\u001b[0m                           Traceback (most recent call last)",
      "Cell \u001b[0;32mIn[6], line 11\u001b[0m\n\u001b[1;32m      1\u001b[0m builder \u001b[38;5;241m=\u001b[39m RepographBuilder(\n\u001b[1;32m      2\u001b[0m     \u001b[38;5;124m\"\u001b[39m\u001b[38;5;124mneo4j://localhost:7687\u001b[39m\u001b[38;5;124m\"\u001b[39m,\n\u001b[1;32m      3\u001b[0m     \u001b[38;5;124m\"\u001b[39m\u001b[38;5;124mneo4j\u001b[39m\u001b[38;5;124m\"\u001b[39m,\n\u001b[0;32m   (...)\u001b[0m\n\u001b[1;32m      7\u001b[0m     \u001b[38;5;28;01mTrue\u001b[39;00m\n\u001b[1;32m      8\u001b[0m )\n\u001b[1;32m     10\u001b[0m directory_info, call_graph \u001b[38;5;241m=\u001b[39m parse_inspect4py_output(repo_path)\n\u001b[0;32m---> 11\u001b[0m repograph \u001b[38;5;241m=\u001b[39m \u001b[43mbuilder\u001b[49m\u001b[38;5;241;43m.\u001b[39;49m\u001b[43mbuild\u001b[49m\u001b[43m(\u001b[49m\u001b[43mdirectory_info\u001b[49m\u001b[43m)\u001b[49m  \u001b[38;5;66;03m# noqa\u001b[39;00m\n",
      "File \u001b[0;32m~/GitHub/repograph/backend/repograph/builder/repograph_builder.py:944\u001b[0m, in \u001b[0;36mRepographBuilder.build\u001b[0;34m(self, directory_info)\u001b[0m\n\u001b[1;32m    942\u001b[0m log\u001b[38;5;241m.\u001b[39minfo(\u001b[38;5;124m\"\u001b[39m\u001b[38;5;124mExtracting information from directories...\u001b[39m\u001b[38;5;124m\"\u001b[39m)\n\u001b[1;32m    943\u001b[0m \u001b[38;5;28;01mfor\u001b[39;00m index, directory \u001b[38;5;129;01min\u001b[39;00m \u001b[38;5;28menumerate\u001b[39m(directories):\n\u001b[0;32m--> 944\u001b[0m     \u001b[38;5;28;43mself\u001b[39;49m\u001b[38;5;241;43m.\u001b[39;49m\u001b[43m_parse_directory\u001b[49m\u001b[43m(\u001b[49m\u001b[43mdirectory\u001b[49m\u001b[43m,\u001b[49m\u001b[43m \u001b[49m\u001b[43mdirectory_info\u001b[49m\u001b[43m[\u001b[49m\u001b[43mdirectory\u001b[49m\u001b[43m]\u001b[49m\u001b[43m,\u001b[49m\u001b[43m \u001b[49m\u001b[43mindex\u001b[49m\u001b[43m,\u001b[49m\u001b[43m \u001b[49m\u001b[38;5;28;43mlen\u001b[39;49m\u001b[43m(\u001b[49m\u001b[43mdirectories\u001b[49m\u001b[43m)\u001b[49m\u001b[43m)\u001b[49m\n\u001b[1;32m    946\u001b[0m \u001b[38;5;66;03m# Retrospectively parse module dependencies\u001b[39;00m\n\u001b[1;32m    947\u001b[0m log\u001b[38;5;241m.\u001b[39minfo(\u001b[38;5;124m\"\u001b[39m\u001b[38;5;124mParsing module dependencies...\u001b[39m\u001b[38;5;124m\"\u001b[39m)\n",
      "File \u001b[0;32m~/GitHub/repograph/backend/repograph/builder/repograph_builder.py:341\u001b[0m, in \u001b[0;36mRepographBuilder._parse_directory\u001b[0;34m(self, directory_name, directory_info, index, total)\u001b[0m\n\u001b[1;32m    338\u001b[0m     \u001b[38;5;28mself\u001b[39m\u001b[38;5;241m.\u001b[39mmodules[module\u001b[38;5;241m.\u001b[39mcanonical_name] \u001b[38;5;241m=\u001b[39m module\n\u001b[1;32m    340\u001b[0m \u001b[38;5;66;03m# Now parse the contents of the module.\u001b[39;00m\n\u001b[0;32m--> 341\u001b[0m \u001b[38;5;28;43mself\u001b[39;49m\u001b[38;5;241;43m.\u001b[39;49m\u001b[43m_parse_module_contents\u001b[49m\u001b[43m(\u001b[49m\u001b[43mmodule\u001b[49m\u001b[43m,\u001b[49m\u001b[43m \u001b[49m\u001b[43mfile_info\u001b[49m\u001b[43m)\u001b[49m\n\u001b[1;32m    343\u001b[0m \u001b[38;5;66;03m# Create a relationship between the Directory and the Module.\u001b[39;00m\n\u001b[1;32m    344\u001b[0m relationship \u001b[38;5;241m=\u001b[39m Contains(directory, module)\n",
      "File \u001b[0;32m~/GitHub/repograph/backend/repograph/builder/repograph_builder.py:414\u001b[0m, in \u001b[0;36mRepographBuilder._parse_module_contents\u001b[0;34m(self, module, file_info)\u001b[0m\n\u001b[1;32m    401\u001b[0m \u001b[38;5;124;03m\"\"\"Parse the contents of the module.\u001b[39;00m\n\u001b[1;32m    402\u001b[0m \n\u001b[1;32m    403\u001b[0m \u001b[38;5;124;03mThis includes functions/methods and classes.\u001b[39;00m\n\u001b[0;32m   (...)\u001b[0m\n\u001b[1;32m    411\u001b[0m \u001b[38;5;124;03m    None\u001b[39;00m\n\u001b[1;32m    412\u001b[0m \u001b[38;5;124;03m\"\"\"\u001b[39;00m\n\u001b[1;32m    413\u001b[0m \u001b[38;5;28mself\u001b[39m\u001b[38;5;241m.\u001b[39m_parse_functions_and_methods(file_info\u001b[38;5;241m.\u001b[39mget(\u001b[38;5;124m\"\u001b[39m\u001b[38;5;124mfunctions\u001b[39m\u001b[38;5;124m\"\u001b[39m, {}), module)\n\u001b[0;32m--> 414\u001b[0m \u001b[38;5;28;43mself\u001b[39;49m\u001b[38;5;241;43m.\u001b[39;49m\u001b[43m_parse_classes\u001b[49m\u001b[43m(\u001b[49m\u001b[43mfile_info\u001b[49m\u001b[38;5;241;43m.\u001b[39;49m\u001b[43mget\u001b[49m\u001b[43m(\u001b[49m\u001b[38;5;124;43m\"\u001b[39;49m\u001b[38;5;124;43mclasses\u001b[39;49m\u001b[38;5;124;43m\"\u001b[39;49m\u001b[43m,\u001b[49m\u001b[43m \u001b[49m\u001b[43m{\u001b[49m\u001b[43m}\u001b[49m\u001b[43m)\u001b[49m\u001b[43m,\u001b[49m\u001b[43m \u001b[49m\u001b[43mmodule\u001b[49m\u001b[43m)\u001b[49m\n\u001b[1;32m    416\u001b[0m \u001b[38;5;28;01mif\u001b[39;00m \u001b[38;5;124m\"\u001b[39m\u001b[38;5;124mdependencies\u001b[39m\u001b[38;5;124m\"\u001b[39m \u001b[38;5;129;01min\u001b[39;00m file_info:\n\u001b[1;32m    417\u001b[0m     \u001b[38;5;28mself\u001b[39m\u001b[38;5;241m.\u001b[39mmodule_dependencies\u001b[38;5;241m.\u001b[39mappend((file_info\u001b[38;5;241m.\u001b[39mget(\u001b[38;5;124m\"\u001b[39m\u001b[38;5;124mdependencies\u001b[39m\u001b[38;5;124m\"\u001b[39m, []), module))\n",
      "File \u001b[0;32m~/GitHub/repograph/backend/repograph/builder/repograph_builder.py:536\u001b[0m, in \u001b[0;36mRepographBuilder._parse_classes\u001b[0;34m(self, class_info, parent)\u001b[0m\n\u001b[1;32m    534\u001b[0m methods_info \u001b[38;5;241m=\u001b[39m info\u001b[38;5;241m.\u001b[39mget(\u001b[38;5;124m\"\u001b[39m\u001b[38;5;124mmethods\u001b[39m\u001b[38;5;124m\"\u001b[39m, \u001b[38;5;28;01mNone\u001b[39;00m)\n\u001b[1;32m    535\u001b[0m \u001b[38;5;28;01mif\u001b[39;00m methods_info:\n\u001b[0;32m--> 536\u001b[0m     \u001b[38;5;28;43mself\u001b[39;49m\u001b[38;5;241;43m.\u001b[39;49m\u001b[43m_parse_functions_and_methods\u001b[49m\u001b[43m(\u001b[49m\u001b[43mmethods_info\u001b[49m\u001b[43m,\u001b[49m\u001b[43m \u001b[49m\u001b[43mclass_node\u001b[49m\u001b[43m,\u001b[49m\u001b[43m \u001b[49m\u001b[43mmethods\u001b[49m\u001b[38;5;241;43m=\u001b[39;49m\u001b[38;5;28;43;01mTrue\u001b[39;49;00m\u001b[43m)\u001b[49m\n",
      "File \u001b[0;32m~/GitHub/repograph/backend/repograph/builder/repograph_builder.py:473\u001b[0m, in \u001b[0;36mRepographBuilder._parse_functions_and_methods\u001b[0;34m(self, functions_info, parent, methods)\u001b[0m\n\u001b[1;32m    470\u001b[0m \u001b[38;5;28mself\u001b[39m\u001b[38;5;241m.\u001b[39mrepograph\u001b[38;5;241m.\u001b[39madd(function)\n\u001b[1;32m    472\u001b[0m \u001b[38;5;66;03m# Parse the docstring for the function\u001b[39;00m\n\u001b[0;32m--> 473\u001b[0m \u001b[38;5;28;43mself\u001b[39;49m\u001b[38;5;241;43m.\u001b[39;49m\u001b[43m_parse_docstring\u001b[49m\u001b[43m(\u001b[49m\u001b[43minfo\u001b[49m\u001b[38;5;241;43m.\u001b[39;49m\u001b[43mget\u001b[49m\u001b[43m(\u001b[49m\u001b[38;5;124;43m\"\u001b[39;49m\u001b[38;5;124;43mdoc\u001b[39;49m\u001b[38;5;124;43m\"\u001b[39;49m\u001b[43m,\u001b[49m\u001b[43m \u001b[49m\u001b[43m{\u001b[49m\u001b[43m}\u001b[49m\u001b[43m)\u001b[49m\u001b[43m,\u001b[49m\u001b[43m \u001b[49m\u001b[43mfunction\u001b[49m\u001b[43m)\u001b[49m\n\u001b[1;32m    475\u001b[0m \u001b[38;5;66;03m# Create HasFunction Relationship\u001b[39;00m\n\u001b[1;32m    476\u001b[0m \u001b[38;5;28;01mif\u001b[39;00m methods:\n",
      "File \u001b[0;32m~/GitHub/repograph/backend/repograph/builder/repograph_builder.py:634\u001b[0m, in \u001b[0;36mRepographBuilder._parse_docstring\u001b[0;34m(self, docstring_info, parent)\u001b[0m\n\u001b[1;32m    631\u001b[0m summary \u001b[38;5;241m=\u001b[39m \u001b[38;5;28mself\u001b[39m\u001b[38;5;241m.\u001b[39mfunction_summarizer\u001b[38;5;241m.\u001b[39msummarize_function(parent) \u001b[38;5;28;01mif\u001b[39;00m \u001b[38;5;28mself\u001b[39m\u001b[38;5;241m.\u001b[39msummarize \u001b[38;5;28;01melse\u001b[39;00m \u001b[38;5;28;01mNone\u001b[39;00m\n\u001b[1;32m    633\u001b[0m \u001b[38;5;66;03m# Parse docstring description\u001b[39;00m\n\u001b[0;32m--> 634\u001b[0m docstring \u001b[38;5;241m=\u001b[39m \u001b[43mDocstring\u001b[49m\u001b[43m(\u001b[49m\n\u001b[1;32m    635\u001b[0m \u001b[43m    \u001b[49m\u001b[43msummarization\u001b[49m\u001b[38;5;241;43m=\u001b[39;49m\u001b[43msummary\u001b[49m\u001b[43m,\u001b[49m\n\u001b[1;32m    636\u001b[0m \u001b[43m    \u001b[49m\u001b[43mshort_description\u001b[49m\u001b[38;5;241;43m=\u001b[39;49m\u001b[43mdocstring_info\u001b[49m\u001b[38;5;241;43m.\u001b[39;49m\u001b[43mget\u001b[49m\u001b[43m(\u001b[49m\u001b[38;5;124;43m\"\u001b[39;49m\u001b[38;5;124;43mshort_description\u001b[39;49m\u001b[38;5;124;43m\"\u001b[39;49m\u001b[43m,\u001b[49m\u001b[43m \u001b[49m\u001b[38;5;28;43;01mNone\u001b[39;49;00m\u001b[43m)\u001b[49m\u001b[43m,\u001b[49m\n\u001b[1;32m    637\u001b[0m \u001b[43m    \u001b[49m\u001b[43mlong_description\u001b[49m\u001b[38;5;241;43m=\u001b[39;49m\u001b[43mdocstring_info\u001b[49m\u001b[38;5;241;43m.\u001b[39;49m\u001b[43mget\u001b[49m\u001b[43m(\u001b[49m\u001b[38;5;124;43m\"\u001b[39;49m\u001b[38;5;124;43mlong_description\u001b[39;49m\u001b[38;5;124;43m\"\u001b[39;49m\u001b[43m,\u001b[49m\u001b[43m \u001b[49m\u001b[38;5;28;43;01mNone\u001b[39;49;00m\u001b[43m)\u001b[49m\n\u001b[1;32m    638\u001b[0m \u001b[43m\u001b[49m\u001b[43m)\u001b[49m\n\u001b[1;32m    639\u001b[0m relationship \u001b[38;5;241m=\u001b[39m Documents(docstring, parent)\n\u001b[1;32m    640\u001b[0m nodes\u001b[38;5;241m.\u001b[39mappend(docstring)\n",
      "File \u001b[0;32m~/GitHub/repograph/backend/repograph/models/base.py:56\u001b[0m, in \u001b[0;36mNode.__init__\u001b[0;34m(self, **data)\u001b[0m\n\u001b[1;32m     44\u001b[0m \u001b[38;5;28;01mdef\u001b[39;00m \u001b[38;5;21m__init__\u001b[39m(\u001b[38;5;28mself\u001b[39m, \u001b[38;5;241m*\u001b[39m\u001b[38;5;241m*\u001b[39mdata: Any) \u001b[38;5;241m-\u001b[39m\u001b[38;5;241m>\u001b[39m \u001b[38;5;28;01mNone\u001b[39;00m:\n\u001b[1;32m     45\u001b[0m     \u001b[38;5;124;03m\"\"\"Constructor\u001b[39;00m\n\u001b[1;32m     46\u001b[0m \n\u001b[1;32m     47\u001b[0m \u001b[38;5;124;03m    Args:\u001b[39;00m\n\u001b[0;32m   (...)\u001b[0m\n\u001b[1;32m     54\u001b[0m \u001b[38;5;124;03m    Class name used as Py2neo Node label.\u001b[39;00m\n\u001b[1;32m     55\u001b[0m \u001b[38;5;124;03m    \"\"\"\u001b[39;00m\n\u001b[0;32m---> 56\u001b[0m     \u001b[38;5;28;43msuper\u001b[39;49m\u001b[43m(\u001b[49m\u001b[43m)\u001b[49m\u001b[38;5;241;43m.\u001b[39;49m\u001b[38;5;21;43m__init__\u001b[39;49m\u001b[43m(\u001b[49m\n\u001b[1;32m     57\u001b[0m \u001b[43m        \u001b[49m\u001b[43mpy2neo\u001b[49m\u001b[38;5;241;43m.\u001b[39;49m\u001b[43mNode\u001b[49m\u001b[43m(\u001b[49m\u001b[38;5;28;43mself\u001b[39;49m\u001b[38;5;241;43m.\u001b[39;49m\u001b[38;5;18;43m__class__\u001b[39;49m\u001b[38;5;241;43m.\u001b[39;49m\u001b[38;5;18;43m__name__\u001b[39;49m\u001b[43m,\u001b[49m\u001b[43m \u001b[49m\u001b[38;5;241;43m*\u001b[39;49m\u001b[38;5;241;43m*\u001b[39;49m\u001b[43mdata\u001b[49m\u001b[43m)\u001b[49m\u001b[43m,\u001b[49m\n\u001b[1;32m     58\u001b[0m \u001b[43m        \u001b[49m\u001b[38;5;241;43m*\u001b[39;49m\u001b[38;5;241;43m*\u001b[39;49m\u001b[43mdata\u001b[49m\n\u001b[1;32m     59\u001b[0m \u001b[43m    \u001b[49m\u001b[43m)\u001b[49m\n",
      "File \u001b[0;32m~/GitHub/repograph/backend/repograph/models/base.py:36\u001b[0m, in \u001b[0;36mBaseSubgraph.__init__\u001b[0;34m(self, subgraph, **data)\u001b[0m\n\u001b[1;32m     30\u001b[0m \u001b[38;5;124;03m\"\"\"Constructor\u001b[39;00m\n\u001b[1;32m     31\u001b[0m \n\u001b[1;32m     32\u001b[0m \u001b[38;5;124;03mArgs:\u001b[39;00m\n\u001b[1;32m     33\u001b[0m \u001b[38;5;124;03m    subgraph (py2neo.Subgraph): Subgraph - either Node or Relationship.\u001b[39;00m\n\u001b[1;32m     34\u001b[0m \u001b[38;5;124;03m\"\"\"\u001b[39;00m\n\u001b[1;32m     35\u001b[0m \u001b[38;5;28mself\u001b[39m\u001b[38;5;241m.\u001b[39m_subgraph \u001b[38;5;241m=\u001b[39m subgraph\n\u001b[0;32m---> 36\u001b[0m \u001b[38;5;28;43msuper\u001b[39;49m\u001b[43m(\u001b[49m\u001b[43m)\u001b[49m\u001b[38;5;241;43m.\u001b[39;49m\u001b[38;5;21;43m__init__\u001b[39;49m\u001b[43m(\u001b[49m\u001b[38;5;241;43m*\u001b[39;49m\u001b[38;5;241;43m*\u001b[39;49m\u001b[43mdata\u001b[49m\u001b[43m)\u001b[49m\n",
      "File \u001b[0;32m/opt/homebrew/Caskroom/miniforge/base/envs/repograph/lib/python3.9/site-packages/pydantic/main.py:342\u001b[0m, in \u001b[0;36mpydantic.main.BaseModel.__init__\u001b[0;34m()\u001b[0m\n",
      "\u001b[0;31mValidationError\u001b[0m: 1 validation error for Docstring\nshort_description\n  none is not an allowed value (type=type_error.none.not_allowed)"
     ]
    }
   ],
   "source": [
    "builder = RepographBuilder(\n",
    "    \"neo4j://localhost:7687\",\n",
    "    \"neo4j\",\n",
    "    \"s3cr3t\",\n",
    "    \"neo4j\",\n",
    "    True,\n",
    "    True\n",
    ")\n",
    "\n",
    "directory_info, call_graph = parse_inspect4py_output(repo_path)\n",
    "repograph = builder.build(directory_info)  # noqa"
   ]
  },
  {
   "cell_type": "markdown",
   "id": "cbf14ff9",
   "metadata": {},
   "source": [
    "## Query the requirements of the repository"
   ]
  },
  {
   "cell_type": "code",
   "execution_count": null,
   "id": "42ddc37a",
   "metadata": {
    "scrolled": true
   },
   "outputs": [],
   "source": [
    "cursor = repograph.graph.run(\"MATCH ()-[r:Requires]->(p) RETURN p\")\n",
    "neo4jupyter.draw_subgraph(cursor.to_subgraph(), {\"Package\": \"name\"})"
   ]
  },
  {
   "cell_type": "markdown",
   "id": "7a467cba",
   "metadata": {},
   "source": [
    "## Select the README files of the repository"
   ]
  },
  {
   "cell_type": "code",
   "execution_count": null,
   "id": "4dcda0d9",
   "metadata": {},
   "outputs": [],
   "source": [
    "cursor = repograph.graph.run(\"MATCH (n:README) RETURN n\")\n",
    "neo4jupyter.draw_subgraph(cursor.to_subgraph(), {\"README\": \"path\"})"
   ]
  },
  {
   "cell_type": "markdown",
   "id": "155cddba",
   "metadata": {},
   "source": [
    "## Select the metadata of the repository"
   ]
  },
  {
   "cell_type": "code",
   "execution_count": null,
   "id": "d8004068",
   "metadata": {},
   "outputs": [],
   "source": [
    "cursor = repograph.graph.run(\"MATCH (n:Repository) RETURN n\")\n",
    "neo4jupyter.draw_subgraph(cursor.to_subgraph(), {\"Repository\": \"name\"})"
   ]
  },
  {
   "cell_type": "markdown",
   "id": "e906373a",
   "metadata": {},
   "source": [
    "## Select the license of the repository"
   ]
  },
  {
   "cell_type": "code",
   "execution_count": null,
   "id": "705da8e8",
   "metadata": {
    "scrolled": false
   },
   "outputs": [],
   "source": [
    "cursor = repograph.graph.run(\"MATCH (n:License) RETURN n\")\n",
    "neo4jupyter.draw_subgraph(cursor.to_subgraph(), {\"License\": \"license_type\"})"
   ]
  },
  {
   "cell_type": "markdown",
   "id": "a9f695ab",
   "metadata": {},
   "source": [
    "## Select the docstring of the repository\n",
    "\n",
    "Both long and short."
   ]
  },
  {
   "cell_type": "markdown",
   "id": "618178c4",
   "metadata": {},
   "source": [
    "## Select the function summarisations of the repository\n",
    "\n",
    "Which ones?"
   ]
  },
  {
   "cell_type": "markdown",
   "id": "e72997af",
   "metadata": {},
   "source": [
    "## Select the filenames of the repository"
   ]
  },
  {
   "cell_type": "markdown",
   "id": "c4047991",
   "metadata": {},
   "source": [
    "## Select the function and class names of the repository"
   ]
  },
  {
   "cell_type": "markdown",
   "id": "32e111cb",
   "metadata": {},
   "source": [
    "## Select the source code of the repository"
   ]
  },
  {
   "cell_type": "markdown",
   "id": "29565553",
   "metadata": {},
   "source": [
    "## Select the call graph of the repository"
   ]
  }
 ],
 "metadata": {
  "kernelspec": {
   "display_name": "repograph",
   "language": "python",
   "name": "repograph"
  },
  "language_info": {
   "codemirror_mode": {
    "name": "ipython",
    "version": 3
   },
   "file_extension": ".py",
   "mimetype": "text/x-python",
   "name": "python",
   "nbconvert_exporter": "python",
   "pygments_lexer": "ipython3",
   "version": "3.9.12"
  }
 },
 "nbformat": 4,
 "nbformat_minor": 5
}
